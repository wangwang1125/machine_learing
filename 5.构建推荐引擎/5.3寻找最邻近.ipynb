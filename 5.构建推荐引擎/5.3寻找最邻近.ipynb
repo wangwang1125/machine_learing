{
 "cells": [
  {
   "cell_type": "code",
   "execution_count": 1,
   "metadata": {},
   "outputs": [],
   "source": [
    "import numpy as np\n",
    "import matplotlib.pyplot as plt\n",
    "from sklearn.neighbors import NearestNeighbors"
   ]
  },
  {
   "cell_type": "code",
   "execution_count": 2,
   "metadata": {},
   "outputs": [
    {
     "data": {
      "text/plain": [
       "<matplotlib.collections.PathCollection at 0x1b00eb1da00>"
      ]
     },
     "execution_count": 2,
     "metadata": {},
     "output_type": "execute_result"
    },
    {
     "data": {
      "image/png": "[encoded data removed]",
      "text/plain": [
       "<Figure size 432x288 with 1 Axes>"
      ]
     },
     "metadata": {
      "needs_background": "light"
     },
     "output_type": "display_data"
    }
   ],
   "source": [
    "X = np.array([[1, 1], [1, 3], [2, 2], [2.5, 5], [3, 1], [4, 2], [2, 3.5], [3, 3], [3.5, 4]]) \n",
    "# 寻找最近邻的数量\n",
    "num_neighbors = 3 \n",
    "# 输入数据点\n",
    "input_point = [2.6, 1.7] \n",
    "# 画出数据点\n",
    "plt.figure()\n",
    "plt.scatter(X[:,0], X[:,1], marker='o', s=25, color='k') "
   ]
  },
  {
   "cell_type": "code",
   "execution_count": 13,
   "metadata": {},
   "outputs": [
    {
     "name": "stdout",
     "output_type": "stream",
     "text": [
      "\n",
      "k nearest neighbors\n",
      "1 --> [2. 2.]\n",
      "2 --> [3. 1.]\n",
      "3 --> [3. 3.]\n"
     ]
    }
   ],
   "source": [
    "# 建立最近邻模型\n",
    "knn = NearestNeighbors(n_neighbors=num_neighbors, algorithm='ball_tree').fit(X) \n",
    "#计算输入点与输入数据中所有点的距离\n",
    "input_point = np.array(input_point).reshape(1,-1)\n",
    "distances, indices = knn.kneighbors(input_point) \n",
    "# 打印k个最近邻点\n",
    "print(\"\\nk nearest neighbors\")\n",
    "for rank, index in enumerate(indices[0][:num_neighbors]):\n",
    "    print(str(rank+1) + \" -->\", X[index])\n"
   ]
  },
  {
   "cell_type": "code",
   "execution_count": 16,
   "metadata": {},
   "outputs": [
    {
     "data": {
      "image/png": "[encoded data removed]",
      "text/plain": [
       "<Figure size 432x288 with 1 Axes>"
      ]
     },
     "metadata": {
      "needs_background": "light"
     },
     "output_type": "display_data"
    }
   ],
   "source": [
    "# 画出最近邻点\n",
    "plt.figure()\n",
    "plt.scatter(X[:,0], X[:,1], marker='o', s=25, color='k')\n",
    "plt.scatter(X[indices][0][:][:,0], X[indices][0][:][:,1], marker='o', s=150, color='b', facecolors='b')\n",
    "plt.scatter(input_point[:,0], input_point[:,1], marker='x', s=150, color='r', facecolors='r')\n",
    "plt.show() "
   ]
  },
  {
   "cell_type": "code",
   "execution_count": null,
   "metadata": {},
   "outputs": [],
   "source": []
  }
 ],
 "metadata": {
  "kernelspec": {
   "display_name": "Python 3",
   "language": "python",
   "name": "python3"
  },
  "language_info": {
   "codemirror_mode": {
    "name": "ipython",
    "version": 3
   },
   "file_extension": ".py",
   "mimetype": "text/x-python",
   "name": "python",
   "nbconvert_exporter": "python",
   "pygments_lexer": "ipython3",
   "version": "3.8.3"
  }
 },
 "nbformat": 4,
 "nbformat_minor": 4
}
