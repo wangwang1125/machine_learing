{
 "cells": [
  {
   "cell_type": "markdown",
   "metadata": {},
   "source": [
    "# 计算欧氏距离分数"
   ]
  },
  {
   "cell_type": "code",
   "execution_count": 2,
   "metadata": {},
   "outputs": [],
   "source": [
    "import json\n",
    "import numpy as np"
   ]
  },
  {
   "cell_type": "code",
   "execution_count": 15,
   "metadata": {},
   "outputs": [],
   "source": [
    "def euclidean_score(dataset, user1, user2):\n",
    "    if user1 not in dataset:\n",
    "        raise TypeError('User' + user1 + 'not present in the dataset')\n",
    "    if user2 not in dataset:\n",
    "        raise TypeError('User' + user2 + 'not present in the dataset')\n",
    "        \n",
    "    rated_by_both = {}\n",
    "    for item in dataset[user1]:\n",
    "        if item in dataset[user2]:\n",
    "            rated_by_both[item] = 1\n",
    "        \n",
    "    if len(rated_by_both)==0:\n",
    "        return 0;\n",
    "    print(rated_by_both)\n",
    "    squated_differences = []\n",
    "    for item in dataset[user1]:\n",
    "        if item in dataset[user2]:\n",
    "            squated_differences.append(np.square(dataset[user1][item] - dataset[user2][item]))\n",
    "    return 1/(1 + np.sqrt(np.sum(squated_differences)))"
   ]
  },
  {
   "cell_type": "code",
   "execution_count": 16,
   "metadata": {},
   "outputs": [
    {
     "data": {
      "text/plain": [
       "{'John Carson': {'Inception': 2.5,\n",
       "  'Pulp Fiction': 3.5,\n",
       "  'Anger Management': 3.0,\n",
       "  'Fracture': 3.5,\n",
       "  'Serendipity': 2.5,\n",
       "  'Jerry Maguire': 3.0},\n",
       " 'Michelle Peterson': {'Inception': 3.0,\n",
       "  'Pulp Fiction': 3.5,\n",
       "  'Anger Management': 1.5,\n",
       "  'Fracture': 5.0,\n",
       "  'Jerry Maguire': 3.0,\n",
       "  'Serendipity': 3.5},\n",
       " 'William Reynolds': {'Inception': 2.5,\n",
       "  'Pulp Fiction': 3.0,\n",
       "  'Fracture': 3.5,\n",
       "  'Jerry Maguire': 4.0},\n",
       " 'Jillian Hobart': {'Pulp Fiction': 3.5,\n",
       "  'Anger Management': 3.0,\n",
       "  'Jerry Maguire': 4.5,\n",
       "  'Fracture': 4.0,\n",
       "  'Serendipity': 2.5},\n",
       " 'Melissa Jones': {'Inception': 3.0,\n",
       "  'Pulp Fiction': 4.0,\n",
       "  'Anger Management': 2.0,\n",
       "  'Fracture': 3.0,\n",
       "  'Jerry Maguire': 3.0,\n",
       "  'Serendipity': 2.0},\n",
       " 'Alex Roberts': {'Inception': 3.0,\n",
       "  'Pulp Fiction': 4.0,\n",
       "  'Jerry Maguire': 3.0,\n",
       "  'Fracture': 5.0,\n",
       "  'Serendipity': 3.5},\n",
       " 'Michael Henry': {'Pulp Fiction': 4.5, 'Serendipity': 1.0, 'Fracture': 4.0}}"
      ]
     },
     "execution_count": 16,
     "metadata": {},
     "output_type": "execute_result"
    }
   ],
   "source": [
    "data_file = 'E://tensorflow//jupyter//machine_learing_damo//5.data//movie_ratings.json'\n",
    "with open(data_file, 'r') as f:\n",
    "    data = json.loads(f.read()) \n",
    "data"
   ]
  },
  {
   "cell_type": "code",
   "execution_count": 17,
   "metadata": {},
   "outputs": [
    {
     "name": "stdout",
     "output_type": "stream",
     "text": [
      "\n",
      "Euclidean score:\n",
      "{'Inception': 1, 'Pulp Fiction': 1, 'Anger Management': 1, 'Fracture': 1, 'Serendipity': 1, 'Jerry Maguire': 1}\n",
      "0.29429805508554946\n"
     ]
    }
   ],
   "source": [
    "user1 = 'John Carson'\n",
    "user2 = 'Michelle Peterson'\n",
    "print(\"\\nEuclidean score:\")\n",
    "print(euclidean_score(data, user1, user2))"
   ]
  },
  {
   "cell_type": "markdown",
   "metadata": {},
   "source": [
    "# 计算皮尔逊相关系数"
   ]
  },
  {
   "cell_type": "code",
   "execution_count": 38,
   "metadata": {},
   "outputs": [],
   "source": [
    "def pearson_score(dataset, user1, user2):\n",
    "    if user1 not in dataset:\n",
    "        raise TypeError('user1'+user1+'not person in the dataset')\n",
    "    if user2 not in dataset:\n",
    "        raise TypeError('user2'+user2+'not person in the dataset')\n",
    "        \n",
    "    rated_by_both = {}\n",
    "    for item in dataset[user1]:\n",
    "        if item in dataset[user2]:\n",
    "            rated_by_both[item] = 1\n",
    "    \n",
    "    num_ratings = len(rated_by_both)\n",
    "    \n",
    "    if num_ratings == 0:\n",
    "        return 0\n",
    "    \n",
    "    #计算同一用户所有电影评分的之和\n",
    "    user1_sum = np.sum([dataset[user1][item] for item in rated_by_both])\n",
    "    user2_sum = np.sum([dataset[user2][item] for item in rated_by_both])\n",
    "\n",
    "    # 计算同一用户所有电影评分的评分的平方和\n",
    "    user1_squared_sum = np.sum([np.square(dataset[user1][item]) for item in rated_by_both])\n",
    "    user2_squared_sum = np.sum([np.square(dataset[user2][item]) for item in rated_by_both]) \n",
    "    \n",
    "    # 计算数据集的乘积之和\n",
    "    product_sum = np.sum([dataset[user1][item] * dataset[user2][item] for item in rated_by_both]) \n",
    "    \n",
    "    # 计算皮尔逊相关度\n",
    "    Sxy = product_sum - (user1_sum * user2_sum / num_ratings)\n",
    "    Sxx = user1_squared_sum - np.square(user1_sum) / num_ratings\n",
    "    Syy = user2_squared_sum - np.square(user2_sum) / num_ratings \n",
    "    \n",
    "    if Sxx * Syy == 0:\n",
    "        return 0 \n",
    "    return Sxy / np.sqrt(Sxx * Syy) "
   ]
  },
  {
   "cell_type": "code",
   "execution_count": 39,
   "metadata": {},
   "outputs": [
    {
     "name": "stdout",
     "output_type": "stream",
     "text": [
      "\n",
      "Pearson score:\n",
      "0.39605901719066977\n"
     ]
    }
   ],
   "source": [
    "user1 = 'John Carson'\n",
    "user2 = 'Michelle Peterson'\n",
    "print(\"\\nPearson score:\")\n",
    "print(pearson_score(data, user1, user2))"
   ]
  },
  {
   "cell_type": "code",
   "execution_count": null,
   "metadata": {},
   "outputs": [],
   "source": []
  }
 ],
 "metadata": {
  "kernelspec": {
   "display_name": "Python 3",
   "language": "python",
   "name": "python3"
  },
  "language_info": {
   "codemirror_mode": {
    "name": "ipython",
    "version": 3
   },
   "file_extension": ".py",
   "mimetype": "text/x-python",
   "name": "python",
   "nbconvert_exporter": "python",
   "pygments_lexer": "ipython3",
   "version": "3.8.3"
  }
 },
 "nbformat": 4,
 "nbformat_minor": 4
}
