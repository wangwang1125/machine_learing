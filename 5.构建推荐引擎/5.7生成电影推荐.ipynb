{
 "cells": [
  {
   "cell_type": "code",
   "execution_count": 1,
   "metadata": {},
   "outputs": [],
   "source": [
    "import json\n",
    "import numpy as np\n",
    "from euclidean_score import euclidean_score\n",
    "from pearson_score import pearson_score\n",
    "from find_similar_users import find_similar_users "
   ]
  },
  {
   "cell_type": "code",
   "execution_count": 2,
   "metadata": {},
   "outputs": [],
   "source": [
    "#生成电影推荐\n",
    "def generate_recommendations(dataset, user):\n",
    "    if user not in dataset:\n",
    "        raise TypeError('User ' + user + ' not present in the dataset') \n",
    "    \n",
    "#    total_scores = {}\n",
    "#    similarity_sums = {}\n",
    "    \n",
    "#    for u in [x for x in dataset if x != user]:\n",
    "#        similarity_score = pearson_score(dataset, user, u)\n",
    "#        if similarity_score <= 0:\n",
    "#            continue\n",
    "        \n",
    "        #寻找未被用户评分电影\n",
    "#        for item in [x for x in dataset[u] if x not in dataset[user] or dataset[user][x] == 0]:\n",
    "#            total_scores.update({item: dataset[u][item] * similarity_score})\n",
    "#            similarity_sums.update({item: similarity_score})\n",
    "            \n",
    "#    if total_scores == 0:\n",
    "#        return ['No recommendations possible']\n",
    "    \n",
    "    # 生成一个电影评分标准化列表\n",
    "#    movie_ranks = np.array([[total/similarity_sums[item],item] for item, total in total_scores.items()])\n",
    "    \n",
    "    #改进\n",
    "    total_scores = {}\n",
    "    similarity_sums = {}\n",
    "    \n",
    "    for u in [x for x in dataset if x != user]:\n",
    "        similarity_score = pearson_score(dataset, user, u)\n",
    "        if similarity_score <= 0:\n",
    "            continue\n",
    "        \n",
    "        #寻找未被用户评分电影\n",
    "        for item in [x for x in dataset[u] if x not in dataset[user] or dataset[user][x] == 0]:\n",
    "            total_scores.update({item: dataset[u][item] * similarity_score})\n",
    "            similarity_sums.update({item: similarity_score})\n",
    "            \n",
    "    if total_scores == 0:\n",
    "        return ['No recommendations possible']\n",
    "    \n",
    "    # 生成一个电影评分标准化列表\n",
    "    movie_ranks = np.array([[total,item] for item, total in total_scores.items()])\n",
    "\n",
    "    \n",
    "    # 根据第一列对皮尔逊相关系数进行降序排列\n",
    "    movie_ranks = movie_ranks[np.argsort(movie_ranks[:, 0])[::-1]] \n",
    "    print(movie_ranks)\n",
    "    # 提取出推荐的电影\n",
    "    recommendations = [movie for _, movie in movie_ranks]\n",
    "    return recommendations "
   ]
  },
  {
   "cell_type": "code",
   "execution_count": 3,
   "metadata": {},
   "outputs": [
    {
     "name": "stdout",
     "output_type": "stream",
     "text": [
      "\n",
      "Recommendations for Michael Henry:\n",
      "[['1.9885469410796102' 'Jerry Maguire']\n",
      " ['1.9885469410796102' 'Inception']\n",
      " ['1.8489469032838097' 'Anger Management']]\n",
      "1. Jerry Maguire\n",
      "2. Inception\n",
      "3. Anger Management\n"
     ]
    }
   ],
   "source": [
    "data_file = 'E://tensorflow//jupyter//machine_learing_damo//5.data//movie_ratings.json'\n",
    "with open(data_file, 'r') as f:\n",
    "    data = json.loads(f.read()) \n",
    "\n",
    "user = 'Michael Henry'\n",
    "print(\"\\nRecommendations for \" + user + \":\")\n",
    "movies = generate_recommendations(data, user)\n",
    "for i, movie in enumerate(movies):\n",
    "    print(str(i+1) + '. ' + movie) "
   ]
  },
  {
   "cell_type": "code",
   "execution_count": null,
   "metadata": {},
   "outputs": [],
   "source": []
  }
 ],
 "metadata": {
  "kernelspec": {
   "display_name": "Python 3",
   "language": "python",
   "name": "python3"
  },
  "language_info": {
   "codemirror_mode": {
    "name": "ipython",
    "version": 3
   },
   "file_extension": ".py",
   "mimetype": "text/x-python",
   "name": "python",
   "nbconvert_exporter": "python",
   "pygments_lexer": "ipython3",
   "version": "3.8.3"
  }
 },
 "nbformat": 4,
 "nbformat_minor": 4
}
