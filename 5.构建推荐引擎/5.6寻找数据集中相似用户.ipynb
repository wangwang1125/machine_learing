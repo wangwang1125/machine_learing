{
 "cells": [
  {
   "cell_type": "code",
   "execution_count": 1,
   "metadata": {},
   "outputs": [],
   "source": [
    "import json\n",
    "import numpy as np\n",
    "from pearson_score import pearson_score "
   ]
  },
  {
   "cell_type": "code",
   "execution_count": 32,
   "metadata": {},
   "outputs": [],
   "source": [
    "def find_similar_users(dataset, user, num_users):\n",
    "    if user not in dataset:\n",
    "        raise TypeError(\"user:\"+user +'not in present in the dataset')\n",
    "        \n",
    "    #计算所有用户皮尔逊相关度\n",
    "    scores = np.array([[alluser, pearson_score(dataset, user, alluser)] for alluser in dataset if user!=alluser])\n",
    "    #评分在第二列按降序排列\n",
    "    scores_sorted = np.argsort(scores[:,1])\n",
    "    scored_sorted_dec = scores_sorted[::-1]\n",
    "    \n",
    "    #提取出k个最高分\n",
    "    top_k = scored_sorted_dec[0:num_users]\n",
    "    return scores[top_k]"
   ]
  },
  {
   "cell_type": "code",
   "execution_count": 33,
   "metadata": {},
   "outputs": [
    {
     "name": "stdout",
     "output_type": "stream",
     "text": [
      "\n",
      "Users similar to John Carson:\n",
      "\n",
      "User\t\t\tSimilarity score\n",
      "\n",
      "Michael Henry \t\t 0.99\n",
      "Alex Roberts \t\t 0.75\n",
      "Melissa Jones \t\t 0.59\n"
     ]
    }
   ],
   "source": [
    "data_file = 'E://tensorflow//jupyter//machine_learing_damo//5.data//movie_ratings.json'\n",
    "with open(data_file, 'r') as f:\n",
    "    data = json.loads(f.read()) \n",
    "\n",
    "user = 'John Carson'\n",
    "print(\"\\nUsers similar to \" + user + \":\\n\")\n",
    "similar_users = find_similar_users(data, user, 3)\n",
    "print(\"User\\t\\t\\tSimilarity score\\n\")\n",
    "for item in similar_users:\n",
    "    print(item[0], '\\t\\t', round(float(item[1]), 2))"
   ]
  },
  {
   "cell_type": "code",
   "execution_count": null,
   "metadata": {},
   "outputs": [],
   "source": []
  }
 ],
 "metadata": {
  "kernelspec": {
   "display_name": "Python 3",
   "language": "python",
   "name": "python3"
  },
  "language_info": {
   "codemirror_mode": {
    "name": "ipython",
    "version": 3
   },
   "file_extension": ".py",
   "mimetype": "text/x-python",
   "name": "python",
   "nbconvert_exporter": "python",
   "pygments_lexer": "ipython3",
   "version": "3.8.3"
  }
 },
 "nbformat": 4,
 "nbformat_minor": 4
}
