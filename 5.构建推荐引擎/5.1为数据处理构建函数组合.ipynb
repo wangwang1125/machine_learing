{
 "cells": [
  {
   "cell_type": "markdown",
   "metadata": {},
   "source": [
    "# 为数据处理构建函数组合"
   ]
  },
  {
   "cell_type": "code",
   "execution_count": 18,
   "metadata": {},
   "outputs": [],
   "source": [
    "import numpy as np\n",
    "from functools import reduce"
   ]
  },
  {
   "cell_type": "code",
   "execution_count": 39,
   "metadata": {},
   "outputs": [],
   "source": [
    "#数组的每一个元素增加3\n",
    "def add3(input_array):\n",
    "    return map(lambda x: x+3, input_array)\n",
    "#数组的每一个元素乘以2\n",
    "def mul2(input_array):\n",
    "    return map(lambda x: x*2, input_array)\n",
    "#数组的每一个元素减去5\n",
    "def sub5(input_array):\n",
    "    return map(lambda x: x-5, input_array)\n",
    "#定义一个函数组合器，将这些函数作为输入参数，返回一个组合函数\n",
    "def function_composer(*args):\n",
    "    return reduce(lambda f, g: lambda x: f(g(x)),args)"
   ]
  },
  {
   "cell_type": "code",
   "execution_count": 42,
   "metadata": {},
   "outputs": [
    {
     "name": "stdout",
     "output_type": "stream",
     "text": [
      "Operation: add3(mul2(sub5(arr)))\n",
      "Output using the lengthy way: [5, 11, 9, 15]\n",
      "Output using the function_composer: [5, 11, 9, 15]\n"
     ]
    }
   ],
   "source": [
    "arr = np.array([2,5,4,7])\n",
    "print(\"Operation: add3(mul2(sub5(arr)))\")\n",
    "arr1 = add3(arr)\n",
    "arr2 = mul2(arr1)\n",
    "arr3 = sub5(arr2)\n",
    "print(\"Output using the lengthy way:\", list(arr3))\n",
    "func_composed = function_composer(sub5, mul2, add3) \n",
    "print(\"Output using the function_composer:\",list(func_composed(arr)))"
   ]
  }
 ],
 "metadata": {
  "kernelspec": {
   "display_name": "Python 3",
   "language": "python",
   "name": "python3"
  },
  "language_info": {
   "codemirror_mode": {
    "name": "ipython",
    "version": 3
   },
   "file_extension": ".py",
   "mimetype": "text/x-python",
   "name": "python",
   "nbconvert_exporter": "python",
   "pygments_lexer": "ipython3",
   "version": "3.8.3"
  }
 },
 "nbformat": 4,
 "nbformat_minor": 4
}
