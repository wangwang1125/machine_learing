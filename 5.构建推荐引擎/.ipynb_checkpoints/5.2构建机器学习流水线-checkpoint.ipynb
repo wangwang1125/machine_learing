{
 "cells": [
  {
   "cell_type": "markdown",
   "metadata": {},
   "source": [
    "# 构建机器学习流水线"
   ]
  },
  {
   "cell_type": "code",
   "execution_count": 1,
   "metadata": {},
   "outputs": [
    {
     "name": "stderr",
     "output_type": "stream",
     "text": [
      "g:\\python\\lib\\site-packages\\sklearn\\utils\\deprecation.py:143: FutureWarning: The sklearn.datasets.samples_generator module is  deprecated in version 0.22 and will be removed in version 0.24. The corresponding classes / functions should instead be imported from sklearn.datasets. Anything that cannot be imported from sklearn.datasets is now part of the private API.\n",
      "  warnings.warn(message, FutureWarning)\n"
     ]
    }
   ],
   "source": [
    "from sklearn.datasets import samples_generator\n",
    "from sklearn.ensemble import RandomForestClassifier\n",
    "from sklearn.feature_selection import SelectKBest, f_regression\n",
    "from sklearn.pipeline import Pipeline\n",
    "import matplotlib.pyplot as plt"
   ]
  },
  {
   "cell_type": "code",
   "execution_count": 10,
   "metadata": {},
   "outputs": [
    {
     "data": {
      "text/plain": [
       "Pipeline(steps=[('selector',\n",
       "                 SelectKBest(k=6,\n",
       "                             score_func=<function f_regression at 0x0000026BC40245E0>)),\n",
       "                ('rf', RandomForestClassifier(max_depth=4, n_estimators=25))])"
      ]
     },
     "execution_count": 10,
     "metadata": {},
     "output_type": "execute_result"
    }
   ],
   "source": [
    "#生成20维的向量特征\n",
    "X,Y = samples_generator.make_classification(n_informative=4, n_features=20, n_redundant=0, random_state=5)\n",
    "# 特征选择器\n",
    "selector_k_best = SelectKBest(f_regression, k=10) \n",
    "# 随机森林分类器\n",
    "classifier = RandomForestClassifier(n_estimators=50, max_depth=4) \n",
    "# 构建机器学习流水线\n",
    "pipeline_classifier = Pipeline([('selector', selector_k_best), ('rf', classifier)]) \n",
    "\n",
    "#可重新设置参数 特征点k=6 树的个数n_estimators=25\n",
    "pipeline_classifier.set_params(selector__k=6, rf__n_estimators=25) \n",
    "\n",
    "# 训练分类器\n",
    "pipeline_classifier.fit(X, Y)"
   ]
  },
  {
   "cell_type": "code",
   "execution_count": 11,
   "metadata": {},
   "outputs": [
    {
     "name": "stdout",
     "output_type": "stream",
     "text": [
      "\n",
      "Predictions:\n",
      " [1 1 0 1 0 0 0 0 1 0 1 1 1 1 1 0 0 1 0 0 0 0 0 1 0 1 0 0 1 1 0 0 0 1 0 0 1\n",
      " 1 1 1 1 1 1 1 1 1 0 1 1 0 1 1 0 1 0 1 1 0 0 0 1 1 1 0 0 1 0 0 0 1 1 0 0 1\n",
      " 1 0 0 0 0 0 0 1 0 1 0 0 1 1 1 0 1 0 1 1 1 0 1 1 0 1]\n"
     ]
    }
   ],
   "source": [
    "# 预测输出结果\n",
    "prediction = pipeline_classifier.predict(X)\n",
    "print(\"\\nPredictions:\\n\", prediction) "
   ]
  },
  {
   "cell_type": "code",
   "execution_count": 12,
   "metadata": {},
   "outputs": [
    {
     "name": "stdout",
     "output_type": "stream",
     "text": [
      "\n",
      "Score: 0.98\n"
     ]
    }
   ],
   "source": [
    "print(\"\\nScore:\", pipeline_classifier.score(X, Y))"
   ]
  },
  {
   "cell_type": "code",
   "execution_count": 13,
   "metadata": {},
   "outputs": [
    {
     "name": "stdout",
     "output_type": "stream",
     "text": [
      "\n",
      "Selected features (0-indexed): 0, 5, 9, 10, 11, 15\n"
     ]
    }
   ],
   "source": [
    "features_status = pipeline_classifier.named_steps['selector'].get_support()\n",
    "selected_features = []\n",
    "for count, item in enumerate(features_status): \n",
    "    if item:\n",
    "        selected_features.append(count)\n",
    "print(\"\\nSelected features (0-indexed):\", ', '.join([str(x) for x in selected_features]))"
   ]
  },
  {
   "cell_type": "code",
   "execution_count": null,
   "metadata": {},
   "outputs": [],
   "source": []
  }
 ],
 "metadata": {
  "kernelspec": {
   "display_name": "Python 3",
   "language": "python",
   "name": "python3"
  },
  "language_info": {
   "codemirror_mode": {
    "name": "ipython",
    "version": 3
   },
   "file_extension": ".py",
   "mimetype": "text/x-python",
   "name": "python",
   "nbconvert_exporter": "python",
   "pygments_lexer": "ipython3",
   "version": "3.8.3"
  }
 },
 "nbformat": 4,
 "nbformat_minor": 4
}
