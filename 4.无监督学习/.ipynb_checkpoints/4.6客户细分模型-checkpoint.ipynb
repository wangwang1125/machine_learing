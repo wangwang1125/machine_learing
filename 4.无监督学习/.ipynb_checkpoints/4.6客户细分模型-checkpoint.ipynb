{
 "cells": [
  {
   "cell_type": "code",
   "execution_count": 2,
   "metadata": {},
   "outputs": [],
   "source": [
    "import csv\n",
    "import numpy as np\n",
    "from sklearn import cluster, covariance, manifold\n",
    "from sklearn.cluster import MeanShift, estimate_bandwidth\n",
    "import matplotlib.pyplot as plt "
   ]
  },
  {
   "cell_type": "code",
   "execution_count": 3,
   "metadata": {},
   "outputs": [],
   "source": [
    "# 从输入文件加载数据\n",
    "input_file = 'E://tensorflow/jupyter/machine_learing_damo/4.data/wholesale.csv'\n",
    "file_reader = csv.reader(open(input_file, 'rt'), delimiter=',')\n",
    "X = []\n",
    "for count, row in enumerate(file_reader):\n",
    "    if not count:\n",
    "        names = row[2:]\n",
    "        continue\n",
    "    X.append([float(x) for x in row[2:]])\n",
    "    \n",
    "# 转换为numpy数组\n",
    "X = np.array(X) "
   ]
  },
  {
   "cell_type": "code",
   "execution_count": 4,
   "metadata": {},
   "outputs": [
    {
     "name": "stdout",
     "output_type": "stream",
     "text": [
      "\n",
      "Number of clusters in input data = 8\n"
     ]
    }
   ],
   "source": [
    "#建立一个均值漂移聚类模型\n",
    "# 估计带宽参数bandwidth\n",
    "bandwidth = estimate_bandwidth(X, quantile=0.8, n_samples=len(X))\n",
    "# 用MeanShift函数计算聚类\n",
    "meanshift_estimator = MeanShift(bandwidth=bandwidth, bin_seeding=True)\n",
    "meanshift_estimator.fit(X)\n",
    "labels = meanshift_estimator.labels_\n",
    "centroids = meanshift_estimator.cluster_centers_\n",
    "num_clusters = len(np.unique(labels))\n",
    "print(\"\\nNumber of clusters in input data =\", num_clusters)"
   ]
  },
  {
   "cell_type": "code",
   "execution_count": 5,
   "metadata": {},
   "outputs": [
    {
     "name": "stdout",
     "output_type": "stream",
     "text": [
      "\n",
      "Centroids of clusters:\n",
      "Fre\tMil\tGro\tFro\tDet\tDel\n",
      "9632\t4671\t6593\t2570\t2296\t1248\n",
      "40204\t46314\t57584\t5518\t25436\t4241\n",
      "112151\t29627\t18148\t16745\t4948\t8550\n",
      "36847\t43950\t20170\t36534\t239\t47943\n",
      "32717\t16784\t13626\t60869\t1272\t5609\n",
      "22925\t73498\t32114\t987\t20070\t903\n",
      "16117\t46197\t92780\t1026\t40827\t2944\n",
      "8565\t4980\t67298\t131\t38102\t1215\n"
     ]
    }
   ],
   "source": [
    "print(\"\\nCentroids of clusters:\")\n",
    "print('\\t'.join([name[:3] for name in names]))\n",
    "for centroid in centroids:\n",
    "    print('\\t'.join([str(int(x)) for x in centroid]))"
   ]
  },
  {
   "cell_type": "code",
   "execution_count": 6,
   "metadata": {},
   "outputs": [
    {
     "data": {
      "image/png": "[encoded data removed]",
      "text/plain": [
       "<Figure size 432x288 with 1 Axes>"
      ]
     },
     "metadata": {
      "needs_background": "light"
     },
     "output_type": "display_data"
    }
   ],
   "source": [
    "# 数据可视化\n",
    "centroids_milk_groceries = centroids[:, 1:3]\n",
    "# 用centroids_milk_groceries中的坐标画出中心点\n",
    "plt.figure()\n",
    "plt.scatter(centroids_milk_groceries[:,0], centroids_milk_groceries[:,1], s=100, edgecolors='k', facecolors='none')\n",
    "offset = 0.2\n",
    "plt.xlim(centroids_milk_groceries[:,0].min() - offset *\n",
    "         centroids_milk_groceries[:,0].ptp(), centroids_milk_groceries[:,0].max() + offset *\n",
    "         centroids_milk_groceries[:,0].ptp(),)\n",
    "plt.ylim(centroids_milk_groceries[:,1].min() - offset * centroids_milk_groceries[:,1].ptp(),centroids_milk_groceries[:,1].max() + offset * \n",
    "        centroids_milk_groceries[:,1].ptp())\n",
    "plt.show() "
   ]
  },
  {
   "cell_type": "code",
   "execution_count": null,
   "metadata": {},
   "outputs": [],
   "source": []
  }
 ],
 "metadata": {
  "kernelspec": {
   "display_name": "Python 3",
   "language": "python",
   "name": "python3"
  },
  "language_info": {
   "codemirror_mode": {
    "name": "ipython",
    "version": 3
   },
   "file_extension": ".py",
   "mimetype": "text/x-python",
   "name": "python",
   "nbconvert_exporter": "python",
   "pygments_lexer": "ipython3",
   "version": "3.8.3"
  }
 },
 "nbformat": 4,
 "nbformat_minor": 4
}
