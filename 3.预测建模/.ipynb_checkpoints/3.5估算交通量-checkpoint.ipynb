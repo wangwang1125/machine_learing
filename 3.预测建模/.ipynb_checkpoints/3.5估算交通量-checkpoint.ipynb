{
 "cells": [
  {
   "cell_type": "code",
   "execution_count": 2,
   "metadata": {},
   "outputs": [],
   "source": [
    "import numpy as np\n",
    "from sklearn import preprocessing\n",
    "from sklearn.svm import SVR"
   ]
  },
  {
   "cell_type": "code",
   "execution_count": 6,
   "metadata": {},
   "outputs": [
    {
     "data": {
      "text/plain": [
       "array([['Tuesday', '00:00', 'San Francisco', 'no', '3'],\n",
       "       ['Tuesday', '00:05', 'San Francisco', 'no', '8'],\n",
       "       ['Tuesday', '00:10', 'San Francisco', 'no', '10'],\n",
       "       ...,\n",
       "       ['Thursday', '23:45', 'Arizona', 'no', '11'],\n",
       "       ['Thursday', '23:50', 'Arizona', 'no', '14'],\n",
       "       ['Thursday', '23:55', 'Arizona', 'no', '17']], dtype='<U13')"
      ]
     },
     "execution_count": 6,
     "metadata": {},
     "output_type": "execute_result"
    }
   ],
   "source": [
    "input_file = 'E://tensorflow//jupyter//machine_learing_damo//3.data//traffic_data.txt' \n",
    "X = []\n",
    "count = 0\n",
    "with open(input_file, 'r') as f:\n",
    "    for line in f.readlines():\n",
    "        data = line[:-1].split(',')\n",
    "        X.append(data)\n",
    "X = np.array(X) \n",
    "X"
   ]
  },
  {
   "cell_type": "code",
   "execution_count": 9,
   "metadata": {},
   "outputs": [],
   "source": [
    "label_encoder = []\n",
    "x_encoded = np.empty(X.shape)\n",
    "\n",
    "for i, item in enumerate(X[0]):\n",
    "    if item.isdigit():\n",
    "        x_encoded[:,i] = X[:,i]\n",
    "    else:\n",
    "        label_encoder.append(preprocessing.LabelEncoder())\n",
    "        x_encoded[:,i] = label_encoder[-1].fit_transform(X[:,i])\n",
    "        \n",
    "x = x_encoded[:,:-1].astype(int)\n",
    "y = x_encoded[:,-1].astype(int)\n",
    "    "
   ]
  },
  {
   "cell_type": "code",
   "execution_count": 11,
   "metadata": {},
   "outputs": [
    {
     "data": {
      "text/plain": [
       "SVR(C=10.0, epsilon=0.2)"
      ]
     },
     "execution_count": 11,
     "metadata": {},
     "output_type": "execute_result"
    }
   ],
   "source": [
    "params = {'kernel':'rbf','C':10.0,'epsilon':0.2}\n",
    "regressor = SVR(**params)\n",
    "regressor.fit(x,y)"
   ]
  },
  {
   "cell_type": "code",
   "execution_count": 13,
   "metadata": {},
   "outputs": [
    {
     "name": "stdout",
     "output_type": "stream",
     "text": [
      "Mean absolute error = 7.28\n"
     ]
    }
   ],
   "source": [
    "# 交叉验证\n",
    "import sklearn.metrics as sm\n",
    "y_pred = regressor.predict(x)\n",
    "print(\"Mean absolute error =\", round(sm.mean_absolute_error(y, y_pred), 2) )"
   ]
  },
  {
   "cell_type": "code",
   "execution_count": 28,
   "metadata": {},
   "outputs": [
    {
     "name": "stdout",
     "output_type": "stream",
     "text": [
      "Predicted traffic: [29.47985543]\n"
     ]
    }
   ],
   "source": [
    "input_data = ['Tuesday', '13:35', 'San Francisco', 'yes'] \n",
    "input_data_encoded = [-1] * len(input_data)\n",
    "input_data = np.array(input_data).reshape(1,-1)\n",
    "count = 0\n",
    "for i, item in enumerate(input_data[0]):\n",
    "    if item.isdigit():\n",
    "        input_data_encoded[i] = input_data[:,i]\n",
    "    else:\n",
    "        input_data_encoded[i] = int(label_encoder[count].transform(input_data[:,i]))\n",
    "        count = count+1\n",
    "input_data_encoded = np.array(input_data_encoded).reshape(1,-1)\n",
    "y_pre = regressor.predict(input_data_encoded)\n",
    "print(\"Predicted traffic:\", y_pre)"
   ]
  },
  {
   "cell_type": "code",
   "execution_count": null,
   "metadata": {},
   "outputs": [],
   "source": []
  }
 ],
 "metadata": {
  "kernelspec": {
   "display_name": "Python 3",
   "language": "python",
   "name": "python3"
  },
  "language_info": {
   "codemirror_mode": {
    "name": "ipython",
    "version": 3
   },
   "file_extension": ".py",
   "mimetype": "text/x-python",
   "name": "python",
   "nbconvert_exporter": "python",
   "pygments_lexer": "ipython3",
   "version": "3.8.3"
  }
 },
 "nbformat": 4,
 "nbformat_minor": 4
}
