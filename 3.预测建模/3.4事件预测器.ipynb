{
 "cells": [
  {
   "cell_type": "code",
   "execution_count": 12,
   "metadata": {},
   "outputs": [],
   "source": [
    "from sklearn import model_selection\n",
    "import numpy as np\n",
    "from sklearn import preprocessing\n",
    "from sklearn.svm import SVC\n",
    "import utilities"
   ]
  },
  {
   "cell_type": "code",
   "execution_count": 38,
   "metadata": {},
   "outputs": [
    {
     "data": {
      "text/plain": [
       "array([['Sunday', '00:00:00', '0', '0', 'noevent'],\n",
       "       ['Sunday', '00:30:00', '1', '0', 'noevent'],\n",
       "       ['Sunday', '01:00:00', '0', '0', 'noevent'],\n",
       "       ...,\n",
       "       ['Saturday', '22:30:00', '0', '0', 'noevent'],\n",
       "       ['Saturday', '23:00:00', '0', '0', 'noevent'],\n",
       "       ['Saturday', '23:30:00', '1', '0', 'noevent']], dtype='<U9')"
      ]
     },
     "execution_count": 38,
     "metadata": {},
     "output_type": "execute_result"
    }
   ],
   "source": [
    "X = []\n",
    "input_file = 'E://tensorflow//jupyter//machine_learing_damo//3.data//building_event_binary.txt'\n",
    "with open(input_file, 'r') as f:\n",
    "    for line in f.readlines():\n",
    "        data = line[:-1].split(',')\n",
    "        data = [data[i] for i in range(len(data)) if i != 1]\n",
    "        \n",
    "        X.append(data)\n",
    "X = np.array(X)\n",
    "X"
   ]
  },
  {
   "cell_type": "code",
   "execution_count": 41,
   "metadata": {},
   "outputs": [],
   "source": [
    "label_encoder = []\n",
    "count = 0\n",
    "X_encoded = np.empty(X.shape)\n",
    "for i, item in enumerate(X[0]):\n",
    "    if item.isdigit():  #判断是否为数值\n",
    "        X_encoded[:, i] = X[:, i] \n",
    "    else:\n",
    "        label_encoder.append(preprocessing.LabelEncoder())\n",
    "        X_encoded[:, i] = label_encoder[-1].fit_transform(X[:, i])\n",
    "\n",
    "x = X_encoded[:, :-1].astype(int)\n",
    "y = X_encoded[:, -1].astype(int) "
   ]
  },
  {
   "cell_type": "code",
   "execution_count": 42,
   "metadata": {},
   "outputs": [
    {
     "data": {
      "text/plain": [
       "SVC(class_weight='balanced', probability=True)"
      ]
     },
     "execution_count": 42,
     "metadata": {},
     "output_type": "execute_result"
    }
   ],
   "source": [
    "params = {'kernel': 'rbf', 'probability': True, 'class_weight': \"balanced\"} \n",
    "classifier = SVC(**params)\n",
    "classifier.fit(x,y)"
   ]
  },
  {
   "cell_type": "code",
   "execution_count": 43,
   "metadata": {},
   "outputs": [],
   "source": [
    "#utilities.print_accuracy_report(classifier,x,y)"
   ]
  },
  {
   "cell_type": "code",
   "execution_count": 51,
   "metadata": {},
   "outputs": [
    {
     "name": "stdout",
     "output_type": "stream",
     "text": [
      "output: noevent\n"
     ]
    }
   ],
   "source": [
    "input_data = ['Tuesday', '21:00:00','2','1'] \n",
    "input_data_encoded = [-1] * len(input_data)\n",
    "input_data = np.array(input_data).reshape(1,-1)\n",
    "count = 0\n",
    "for i, item in enumerate(input_data[0]):\n",
    "    if item.isdigit():  #判断是否为数值\n",
    "        input_data_encoded[i] = input_data[:, i] \n",
    "    else:\n",
    "        input_data_encoded[i] = int(label_encoder[count].transform(input_data[:,i]))\n",
    "        count = count + 1\n",
    "       \n",
    "    \n",
    "input_data_encoded = np.array(input_data_encoded).reshape(1,-1)\n",
    "y_pred_test = classifier.predict(input_data_encoded)\n",
    "print('output:',label_encoder[-1].inverse_transform(y_pred_test)[0])"
   ]
  },
  {
   "cell_type": "code",
   "execution_count": null,
   "metadata": {},
   "outputs": [],
   "source": []
  }
 ],
 "metadata": {
  "kernelspec": {
   "display_name": "Python 3",
   "language": "python",
   "name": "python3"
  },
  "language_info": {
   "codemirror_mode": {
    "name": "ipython",
    "version": 3
   },
   "file_extension": ".py",
   "mimetype": "text/x-python",
   "name": "python",
   "nbconvert_exporter": "python",
   "pygments_lexer": "ipython3",
   "version": "3.8.3"
  }
 },
 "nbformat": 4,
 "nbformat_minor": 4
}
