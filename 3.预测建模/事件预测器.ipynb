{
 "cells": [
  {
   "cell_type": "code",
   "execution_count": 2,
   "metadata": {},
   "outputs": [],
   "source": [
    "from sklearn import svm, model_selection\n",
    "import numpy as np\n"
   ]
  },
  {
   "cell_type": "code",
   "execution_count": 16,
   "metadata": {},
   "outputs": [
    {
     "data": {
      "text/plain": [
       "array([['00:00:00', '0', '0', 'noevent'],\n",
       "       ['00:30:00', '1', '0', 'noevent'],\n",
       "       ['01:00:00', '0', '0', 'noevent'],\n",
       "       ...,\n",
       "       ['22:30:00', '0', '0', 'noevent'],\n",
       "       ['23:00:00', '0', '0', 'noevent'],\n",
       "       ['23:30:00', '1', '0', 'noevent']], dtype='<U8')"
      ]
     },
     "execution_count": 16,
     "metadata": {},
     "output_type": "execute_result"
    }
   ],
   "source": [
    "X = []\n",
    "input_file = 'E://tensorflow//jupyter//machine_learing_damo//3.data//building_event_binary.txt'\n",
    "with open(input_file, 'r') as f:\n",
    "    for line in f.readlines():\n",
    "        data = line[:-1].split(',')\n",
    "        X.append(data[0] and data[2:])\n",
    "            \n",
    "X = np.array(X)\n",
    "X"
   ]
  },
  {
   "cell_type": "code",
   "execution_count": null,
   "metadata": {},
   "outputs": [],
   "source": []
  }
 ],
 "metadata": {
  "kernelspec": {
   "display_name": "Python 3",
   "language": "python",
   "name": "python3"
  },
  "language_info": {
   "codemirror_mode": {
    "name": "ipython",
    "version": 3
   },
   "file_extension": ".py",
   "mimetype": "text/x-python",
   "name": "python",
   "nbconvert_exporter": "python",
   "pygments_lexer": "ipython3",
   "version": "3.8.3"
  }
 },
 "nbformat": 4,
 "nbformat_minor": 4
}
