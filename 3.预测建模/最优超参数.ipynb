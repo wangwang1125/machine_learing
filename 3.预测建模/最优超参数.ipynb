{
 "cells": [
  {
   "cell_type": "code",
   "execution_count": 9,
   "metadata": {},
   "outputs": [],
   "source": [
    "import numpy as np\n",
    "import matplotlib.pyplot as plt\n",
    "import utilities\n",
    "from sklearn import svm\n",
    "from sklearn import model_selection\n",
    "from sklearn.metrics import classification_report"
   ]
  },
  {
   "cell_type": "code",
   "execution_count": 10,
   "metadata": {},
   "outputs": [],
   "source": [
    "input_file = 'E://tensorflow//jupyter//machine_learing_damo//3.data//data_multivar.txt'\n",
    "X,Y = utilities.load_data(input_file)\n",
    "X_train, X_test, Y_train, Y_test = model_selection.train_test_split(X, Y, test_size=0.25, random_state=5)"
   ]
  },
  {
   "cell_type": "code",
   "execution_count": 11,
   "metadata": {},
   "outputs": [],
   "source": [
    "# 通过交叉检验设置参数\n",
    "parameter_grid = [ {'kernel': ['linear'], 'C': [1, 10, 50, 600]},\n",
    "                    {'kernel': ['poly'], 'degree': [2, 3]},\n",
    "                    {'kernel': ['rbf'], 'gamma': [0.01, 0.001], 'C': [1, 10, 50, 600]},\n",
    "] \n",
    "#使用的指标\n",
    "metrics = ['precision', 'recall_weighted'] "
   ]
  },
  {
   "cell_type": "code",
   "execution_count": 26,
   "metadata": {},
   "outputs": [
    {
     "name": "stdout",
     "output_type": "stream",
     "text": [
      "\n",
      "#### Searching optimal hyperparameters for precision\n",
      "Best parameters set found on development set:\n",
      "\n",
      "{'C': 10, 'gamma': 0.01, 'kernel': 'rbf'}\n",
      "\n",
      "Grid scores on development set:\n",
      "\n",
      "{'C': 1, 'kernel': 'linear'} --> 0.676 (+/-0.263)\n",
      "{'C': 10, 'kernel': 'linear'} --> 0.676 (+/-0.263)\n",
      "{'C': 50, 'kernel': 'linear'} --> 0.676 (+/-0.263)\n",
      "{'C': 600, 'kernel': 'linear'} --> 0.676 (+/-0.263)\n",
      "{'degree': 2, 'kernel': 'poly'} --> 0.874 (+/-0.107)\n",
      "{'degree': 3, 'kernel': 'poly'} --> 0.872 (+/-0.103)\n",
      "{'C': 1, 'gamma': 0.01, 'kernel': 'rbf'} --> 0.980 (+/-0.050)\n",
      "{'C': 1, 'gamma': 0.001, 'kernel': 'rbf'} --> 0.533 (+/-0.000)\n",
      "{'C': 10, 'gamma': 0.01, 'kernel': 'rbf'} --> 0.983 (+/-0.042)\n",
      "{'C': 10, 'gamma': 0.001, 'kernel': 'rbf'} --> 0.543 (+/-0.036)\n",
      "{'C': 50, 'gamma': 0.01, 'kernel': 'rbf'} --> 0.959 (+/-0.051)\n",
      "{'C': 50, 'gamma': 0.001, 'kernel': 'rbf'} --> 0.806 (+/-0.327)\n",
      "{'C': 600, 'gamma': 0.01, 'kernel': 'rbf'} --> 0.967 (+/-0.033)\n",
      "{'C': 600, 'gamma': 0.001, 'kernel': 'rbf'} --> 0.983 (+/-0.043)\n",
      "\n",
      "Detailed classification report:\n",
      "\n",
      "The model is trained on the full development set.\n",
      "The scores are computed on the full evaluation set.\n",
      "\n",
      "              precision    recall  f1-score   support\n",
      "\n",
      "         0.0       0.92      0.98      0.95        45\n",
      "         1.0       0.96      0.87      0.91        30\n",
      "\n",
      "    accuracy                           0.93        75\n",
      "   macro avg       0.94      0.92      0.93        75\n",
      "weighted avg       0.94      0.93      0.93        75\n",
      "\n",
      "\n",
      "\n",
      "#### Searching optimal hyperparameters for recall_weighted\n",
      "Best parameters set found on development set:\n",
      "\n",
      "{'C': 600, 'gamma': 0.01, 'kernel': 'rbf'}\n",
      "\n",
      "Grid scores on development set:\n",
      "\n",
      "{'C': 1, 'kernel': 'linear'} --> 0.591 (+/-0.172)\n",
      "{'C': 10, 'kernel': 'linear'} --> 0.591 (+/-0.172)\n",
      "{'C': 50, 'kernel': 'linear'} --> 0.591 (+/-0.172)\n",
      "{'C': 600, 'kernel': 'linear'} --> 0.591 (+/-0.172)\n",
      "{'degree': 2, 'kernel': 'poly'} --> 0.867 (+/-0.093)\n",
      "{'degree': 3, 'kernel': 'poly'} --> 0.884 (+/-0.052)\n",
      "{'C': 1, 'gamma': 0.01, 'kernel': 'rbf'} --> 0.831 (+/-0.181)\n",
      "{'C': 1, 'gamma': 0.001, 'kernel': 'rbf'} --> 0.533 (+/-0.000)\n",
      "{'C': 10, 'gamma': 0.01, 'kernel': 'rbf'} --> 0.920 (+/-0.077)\n",
      "{'C': 10, 'gamma': 0.001, 'kernel': 'rbf'} --> 0.524 (+/-0.036)\n",
      "{'C': 50, 'gamma': 0.01, 'kernel': 'rbf'} --> 0.947 (+/-0.036)\n",
      "{'C': 50, 'gamma': 0.001, 'kernel': 'rbf'} --> 0.671 (+/-0.174)\n",
      "{'C': 600, 'gamma': 0.01, 'kernel': 'rbf'} --> 0.951 (+/-0.033)\n",
      "{'C': 600, 'gamma': 0.001, 'kernel': 'rbf'} --> 0.916 (+/-0.076)\n",
      "\n",
      "Detailed classification report:\n",
      "\n",
      "The model is trained on the full development set.\n",
      "The scores are computed on the full evaluation set.\n",
      "\n",
      "              precision    recall  f1-score   support\n",
      "\n",
      "         0.0       0.98      0.91      0.94        45\n",
      "         1.0       0.88      0.97      0.92        30\n",
      "\n",
      "    accuracy                           0.93        75\n",
      "   macro avg       0.93      0.94      0.93        75\n",
      "weighted avg       0.94      0.93      0.93        75\n",
      "\n",
      "\n"
     ]
    }
   ],
   "source": [
    "for metric in metrics:\n",
    "    print(\"\\n#### Searching optimal hyperparameters for\", metric)\n",
    "    classifier = model_selection.GridSearchCV(svm.SVC(C=1),parameter_grid, cv=5, scoring=metric)\n",
    "    classifier.fit(X_train, Y_train) \n",
    "    \n",
    "    print(\"Best parameters set found on development set:\")\n",
    "    print()\n",
    "    print(classifier.best_params_)\n",
    "    print()\n",
    "    print(\"Grid scores on development set:\")\n",
    "    print()\n",
    "    means = classifier.cv_results_['mean_test_score']\n",
    "    stds = classifier.cv_results_['std_test_score']\n",
    "    #这里输出了各种参数在使用交叉验证的时候得分的均值和方差\n",
    "    for mean, std, params in zip(means, stds, classifier.cv_results_['params']):\n",
    "        print(\"%r --> %0.3f (+/-%0.03f)\"\n",
    "              % (params, mean, std * 2))\n",
    "    print()\n",
    "\n",
    "    print(\"Detailed classification report:\")\n",
    "    print()\n",
    "    print(\"The model is trained on the full development set.\")\n",
    "    print(\"The scores are computed on the full evaluation set.\")\n",
    "    print()\n",
    "    #使用训练出来的最好的参数进行预测\n",
    "    y_true, y_pred = Y_test, classifier.predict(X_test)\n",
    "    print(classification_report(y_true, y_pred))\n",
    "    print()"
   ]
  },
  {
   "cell_type": "code",
   "execution_count": null,
   "metadata": {},
   "outputs": [],
   "source": []
  },
  {
   "cell_type": "code",
   "execution_count": null,
   "metadata": {},
   "outputs": [],
   "source": []
  }
 ],
 "metadata": {
  "kernelspec": {
   "display_name": "Python 3",
   "language": "python",
   "name": "python3"
  },
  "language_info": {
   "codemirror_mode": {
    "name": "ipython",
    "version": 3
   },
   "file_extension": ".py",
   "mimetype": "text/x-python",
   "name": "python",
   "nbconvert_exporter": "python",
   "pygments_lexer": "ipython3",
   "version": "3.8.3"
  }
 },
 "nbformat": 4,
 "nbformat_minor": 4
}
