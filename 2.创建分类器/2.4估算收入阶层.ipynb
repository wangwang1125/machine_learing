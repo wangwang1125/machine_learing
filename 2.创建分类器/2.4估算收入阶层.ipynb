{
 "cells": [
  {
   "cell_type": "code",
   "execution_count": 156,
   "metadata": {},
   "outputs": [],
   "source": [
    "from sklearn.naive_bayes import GaussianNB\n",
    "from sklearn import preprocessing\n",
    "import numpy as np\n",
    "from sklearn import preprocessing\n",
    "from sklearn import model_selection"
   ]
  },
  {
   "cell_type": "code",
   "execution_count": 157,
   "metadata": {},
   "outputs": [],
   "source": [
    "input_file = 'E://tensorflow//jupyter//machine_learing_damo//2.data//adult.data.txt'"
   ]
  },
  {
   "cell_type": "code",
   "execution_count": 158,
   "metadata": {},
   "outputs": [
    {
     "data": {
      "text/plain": [
       "array([['39', 'State-gov', '77516', ..., '40', 'United-States', '<=50K'],\n",
       "       ['50', 'Self-emp-not-inc', '83311', ..., '13', 'United-States',\n",
       "        '<=50K'],\n",
       "       ['38', 'Private', '215646', ..., '40', 'United-States', '<=50K'],\n",
       "       ...,\n",
       "       ['53', 'Private', '321865', ..., '40', 'United-States', '>50K'],\n",
       "       ['40', 'Private', '154374', ..., '40', 'United-States', '>50K'],\n",
       "       ['52', 'Self-emp-inc', '287927', ..., '40', 'United-States',\n",
       "        '>50K']], dtype='<U26')"
      ]
     },
     "execution_count": 158,
     "metadata": {},
     "output_type": "execute_result"
    }
   ],
   "source": [
    "# 读取数据\n",
    "x = []\n",
    "y = []\n",
    "count_lessthan50k = 0\n",
    "count_morethan50k = 0\n",
    "num_images_threshold = 10000 \n",
    "with open(input_file,'r') as f:\n",
    "    for line in f.readlines():\n",
    "        if '?' in line:\n",
    "            continue\n",
    "            \n",
    "        data = line[:-1].split(', ')\n",
    "        \n",
    "        if data[-1] == '<=50K' and count_lessthan50k < num_images_threshold:\n",
    "            x.append(data)\n",
    "            count_lessthan50k = count_lessthan50k+1\n",
    "            \n",
    "        elif data[-1] == '>50K' and count_morethan50k < num_images_threshold:\n",
    "            x.append(data)\n",
    "            count_morethan50k = count_morethan50k+1\n",
    "            \n",
    "        if count_morethan50k >= num_images_threshold and count_lessthan50k >= num_images_threshold:\n",
    "            break\n",
    "            \n",
    "x = np.array(x)\n",
    "x"
   ]
  },
  {
   "cell_type": "code",
   "execution_count": 163,
   "metadata": {},
   "outputs": [
    {
     "name": "stdout",
     "output_type": "stream",
     "text": [
      "[   39     5 77516     9    13     4     0     1     4     1  2174     0\n",
      "    40    37]\n",
      "[   50     4 83311     9    13     2     3     0     4     1     0     0\n",
      "    13    37]\n",
      "[    28      2 338409      9     13      2      9      5      2      0\n",
      "      0      0     40      4]\n"
     ]
    }
   ],
   "source": [
    "label_encoder = []\n",
    "x_encoded = np.empty(x.shape)\n",
    "\n",
    "for i, item in enumerate(x[0]):\n",
    "    label_encoder.append(preprocessing.LabelEncoder())\n",
    "    if item.isdigit():  #判断是否为数值\n",
    "        x_encoded[:, i] = x[:, i] \n",
    "    else:\n",
    "        x_encoded[:,i] = label_encoder[-1].fit_transform(x[:,i])\n",
    "\n",
    "X = x_encoded[:,:-1].astype(int)\n",
    "Y = x_encoded[:,-1].astype(int)\n",
    "print(X[0])\n",
    "print(X[1])\n",
    "print(X[4])"
   ]
  },
  {
   "cell_type": "code",
   "execution_count": 169,
   "metadata": {},
   "outputs": [],
   "source": [
    "x_train, x_test, y_train, y_test = model_selection.train_test_split(X,Y,test_size = 0.25,random_state=5)\n",
    "classifier_gaussiannb = GaussianNB()\n",
    "classifier_gaussiannb.fit(x_train,y_train)\n",
    "y_pre = classifier_gaussiannb.predict(x_test)"
   ]
  },
  {
   "cell_type": "code",
   "execution_count": 170,
   "metadata": {},
   "outputs": [
    {
     "name": "stdout",
     "output_type": "stream",
     "text": [
      "F1 score: 63.06%\n"
     ]
    }
   ],
   "source": [
    "f1 = model_selection.cross_val_score(classifier_gaussiannb,X, Y, scoring='f1_weighted', cv=5)\n",
    "print(\"F1 score: \" + str(round(100*f1.mean(), 2)) + \"%\")"
   ]
  },
  {
   "cell_type": "code",
   "execution_count": 219,
   "metadata": {},
   "outputs": [
    {
     "data": {
      "text/plain": [
       "array([[array(['52'], dtype='<U18'), 2, array(['109642'], dtype='<U18'),\n",
       "        15, array(['9'], dtype='<U18'), 2, 3, 0, 4, 1,\n",
       "        array(['0'], dtype='<U18'), array(['1500'], dtype='<U18'),\n",
       "        array(['45'], dtype='<U18'), 37]], dtype=object)"
      ]
     },
     "execution_count": 219,
     "metadata": {},
     "output_type": "execute_result"
    }
   ],
   "source": [
    "input_data = ['52', 'Private', '109642', 'Some-college', '9', 'Married-civ-spouse', 'Exec-managerial', 'Husband', 'White', 'Male', '0', '1500', '45', 'United-States'] \n",
    "x_new = [-1] * len(input_data)\n",
    "input_data = np.array(input_data).reshape(1,-1)\n",
    "\n",
    "\n",
    "for i, item in enumerate(input_data[0]):\n",
    "    if item.isdigit():  #判断是否为数值\n",
    "        x_new[i] = input_data[:, i] \n",
    "    else:\n",
    "        x_new[i] = int(label_encoder[i].transform(input_data[:,i]))\n",
    "        \n",
    "x_new = np.array(x_new).reshape(1,-1)\n",
    "x_new"
   ]
  },
  {
   "cell_type": "code",
   "execution_count": 220,
   "metadata": {},
   "outputs": [
    {
     "name": "stdout",
     "output_type": "stream",
     "text": [
      "out_class >50K\n"
     ]
    }
   ],
   "source": [
    "out_class = classifier_gaussiannb.predict(x_new)\n",
    "print(\"out_class\",label_encoder[-1].inverse_transform(out_class)[0])"
   ]
  },
  {
   "cell_type": "code",
   "execution_count": null,
   "metadata": {},
   "outputs": [],
   "source": []
  },
  {
   "cell_type": "code",
   "execution_count": null,
   "metadata": {},
   "outputs": [],
   "source": []
  },
  {
   "cell_type": "code",
   "execution_count": null,
   "metadata": {},
   "outputs": [],
   "source": []
  }
 ],
 "metadata": {
  "kernelspec": {
   "display_name": "Python 3",
   "language": "python",
   "name": "python3"
  },
  "language_info": {
   "codemirror_mode": {
    "name": "ipython",
    "version": 3
   },
   "file_extension": ".py",
   "mimetype": "text/x-python",
   "name": "python",
   "nbconvert_exporter": "python",
   "pygments_lexer": "ipython3",
   "version": "3.8.3"
  }
 },
 "nbformat": 4,
 "nbformat_minor": 4
}
