{
 "cells": [
  {
   "cell_type": "markdown",
   "metadata": {},
   "source": [
    "from sklearn import preprocessing\n",
    "from sklearn.ensemble import RandomForestClassifier \n",
    "from sklearn import model_selection \n",
    "import matplotlib.pyplot as plt\n",
    "import numpy as np"
   ]
  },
  {
   "cell_type": "code",
   "execution_count": 138,
   "metadata": {},
   "outputs": [],
   "source": [
    "input_file = 'E://tensorflow//jupyter//machine_learing_damo//2.data//car.data.txt' \n",
    "x = []\n",
    "with open(input_file,'r') as f:\n",
    "    for line in f.readlines():\n",
    "        x.append(line[:-1].split(','))\n",
    "        \n",
    "x = np.array(x)"
   ]
  },
  {
   "cell_type": "markdown",
   "metadata": {},
   "source": [
    "# 将数据里的字符转化成编码"
   ]
  },
  {
   "cell_type": "code",
   "execution_count": 148,
   "metadata": {},
   "outputs": [
    {
     "data": {
      "text/plain": [
       "True"
      ]
     },
     "execution_count": 148,
     "metadata": {},
     "output_type": "execute_result"
    }
   ],
   "source": [
    "label_encoder = []\n",
    "x_encoded = np.empty(x.shape)\n",
    "\n",
    "for i,item in enumerate(x[0]):\n",
    "    label_encoder.append(preprocessing.LabelEncoder())\n",
    "    x_encoded[:,i] = label_encoder[i].fit_transform(x[:, i]) \n",
    "    \n",
    "X = x_encoded[:, :-1].astype(int)\n",
    "Y = x_encoded[:, -1].astype(int) "
   ]
  },
  {
   "cell_type": "markdown",
   "metadata": {},
   "source": [
    "# 建立随机森林分类器"
   ]
  },
  {
   "cell_type": "code",
   "execution_count": 140,
   "metadata": {},
   "outputs": [
    {
     "data": {
      "text/plain": [
       "RandomForestClassifier(max_depth=8, n_estimators=200, random_state=7)"
      ]
     },
     "execution_count": 140,
     "metadata": {},
     "output_type": "execute_result"
    }
   ],
   "source": [
    "params = {'n_estimators': 200, 'max_depth': 8, 'random_state': 7}\n",
    "classifier = RandomForestClassifier(**params)\n",
    "classifier.fit(X, Y) "
   ]
  },
  {
   "cell_type": "code",
   "execution_count": 141,
   "metadata": {},
   "outputs": [
    {
     "name": "stdout",
     "output_type": "stream",
     "text": [
      "Accuracy of the classifier: 77.66%\n"
     ]
    }
   ],
   "source": [
    "accuracy = model_selection.cross_val_score(classifier, X, Y, scoring='accuracy', cv=3)\n",
    "print(\"Accuracy of the classifier: \" + str(round(100*accuracy. mean(), 2)) + \"%\" )"
   ]
  },
  {
   "cell_type": "markdown",
   "metadata": {},
   "source": [
    "# 对单一数据点分类"
   ]
  },
  {
   "cell_type": "code",
   "execution_count": 182,
   "metadata": {},
   "outputs": [
    {
     "data": {
      "text/plain": [
       "[3, 2, 2, 1, 2, 0]"
      ]
     },
     "execution_count": 182,
     "metadata": {},
     "output_type": "execute_result"
    }
   ],
   "source": [
    "input_data = ['vhigh', 'med', '4', '4', 'small', 'high'] \n",
    "input_data_encoded = [-1] * len(input_data)\n",
    "input_data = np.array(input_data).reshape(1,-1)\n",
    "\n",
    "for i, item in enumerate(input_data[0]):\n",
    "    input_data_encoded[i] = int(label_encoder[i].transform(input_data[:,i]))\n",
    "\n",
    "\n",
    "input_data_encoded"
   ]
  },
  {
   "cell_type": "code",
   "execution_count": 183,
   "metadata": {},
   "outputs": [
    {
     "name": "stdout",
     "output_type": "stream",
     "text": [
      "Output class: acc\n"
     ]
    }
   ],
   "source": [
    "# 预测并打印特定数据点的输出\n",
    "input_data_encoded = np.array(input_data_encoded).reshape(1,-1)\n",
    "output_class = classifier.predict(input_data_encoded)\n",
    "print(\"Output class:\", label_encoder[-1].inverse_transform(output_class)[0])"
   ]
  },
  {
   "cell_type": "markdown",
   "metadata": {},
   "source": [
    "# 验证曲线"
   ]
  },
  {
   "cell_type": "code",
   "execution_count": 191,
   "metadata": {},
   "outputs": [
    {
     "name": "stderr",
     "output_type": "stream",
     "text": [
      "g:\\python\\lib\\site-packages\\sklearn\\utils\\validation.py:68: FutureWarning: Pass param_name=n_estimators, param_range=[ 25  50  75 100 125 150 175 200] as keyword args. From version 0.25 passing these as positional arguments will result in an error\n",
      "  warnings.warn(\"Pass {} as keyword args. From version 0.25 \"\n"
     ]
    },
    {
     "name": "stdout",
     "output_type": "stream",
     "text": [
      "\n",
      "##### VALIDATION CURVES #####\n",
      "\n",
      "Param: n_estimators\n",
      "Training scores:\n",
      " [[0.80680174 0.80824891 0.80752533 0.80694143 0.81055676]\n",
      " [0.79522431 0.80535456 0.81041968 0.80911063 0.81055676]\n",
      " [0.80101302 0.80680174 0.81114327 0.81127983 0.81561822]\n",
      " [0.8024602  0.80535456 0.81186686 0.80911063 0.8076645 ]\n",
      " [0.80028944 0.80463097 0.81114327 0.8076645  0.81272596]\n",
      " [0.80390738 0.80535456 0.81041968 0.81127983 0.81706435]\n",
      " [0.80390738 0.80463097 0.81114327 0.81344902 0.81778742]\n",
      " [0.80390738 0.80607815 0.81114327 0.81344902 0.81778742]]\n",
      "\n",
      "Param: n_estimators\n",
      "Validation scores:\n",
      " [[0.71098266 0.76589595 0.72543353 0.76811594 0.73333333]\n",
      " [0.71098266 0.75433526 0.71965318 0.77101449 0.73333333]\n",
      " [0.71098266 0.72254335 0.71965318 0.76521739 0.73623188]\n",
      " [0.71098266 0.71387283 0.71965318 0.75942029 0.72753623]\n",
      " [0.71098266 0.74277457 0.71965318 0.75942029 0.74202899]\n",
      " [0.71098266 0.74277457 0.71965318 0.75942029 0.74782609]\n",
      " [0.71098266 0.74566474 0.71965318 0.75942029 0.74492754]\n",
      " [0.71098266 0.75144509 0.71965318 0.75942029 0.75072464]]\n"
     ]
    }
   ],
   "source": [
    "classifier = RandomForestClassifier(max_depth=4, random_state=7)\n",
    "parameter_grid = np.linspace(25, 200, 8).astype(int)\n",
    "train_scores, validation_scores = model_selection.validation_curve(classifier, X, Y, \"n_estimators\", parameter_grid, cv=5)\n",
    "print(\"\\n##### VALIDATION CURVES #####\")\n",
    "print(\"\\nParam: n_estimators\\nTraining scores:\\n\", train_scores)\n",
    "print(\"\\nParam: n_estimators\\nValidation scores:\\n\", validation_scores)"
   ]
  },
  {
   "cell_type": "code",
   "execution_count": 192,
   "metadata": {},
   "outputs": [
    {
     "data": {
      "image/png": "[encoded data removed]",
      "text/plain": [
       "<Figure size 432x288 with 1 Axes>"
      ]
     },
     "metadata": {
      "needs_background": "light"
     },
     "output_type": "display_data"
    }
   ],
   "source": [
    "# 画出曲线图\n",
    "plt.figure()\n",
    "plt.plot(parameter_grid, 100*np.average(train_scores, axis=1), color='black')\n",
    "plt.title('Training curve') \n",
    "\n",
    "plt.xlabel('Number of estimators')\n",
    "plt.ylabel('Accuracy')\n",
    "plt.show() "
   ]
  },
  {
   "cell_type": "code",
   "execution_count": 203,
   "metadata": {},
   "outputs": [
    {
     "name": "stderr",
     "output_type": "stream",
     "text": [
      "g:\\python\\lib\\site-packages\\sklearn\\utils\\validation.py:68: FutureWarning: Pass param_name=max_depth, param_range=[ 2  4  6  8 10] as keyword args. From version 0.25 passing these as positional arguments will result in an error\n",
      "  warnings.warn(\"Pass {} as keyword args. From version 0.25 \"\n"
     ]
    },
    {
     "name": "stdout",
     "output_type": "stream",
     "text": [
      "\n",
      "##### VALIDATION CURVES #####\n",
      "\n",
      "Param: max_depth\n",
      "Training scores:\n",
      " [[0.71852388 0.70043415 0.70043415 0.69992769 0.69992769]\n",
      " [0.80607815 0.80535456 0.80752533 0.80043384 0.80694143]\n",
      " [0.90665702 0.91027496 0.92836469 0.89949385 0.90310918]\n",
      " [0.97467438 0.96743849 0.96888567 0.97541576 0.96601591]\n",
      " [0.99421129 0.99710564 0.99782923 1.         0.99349241]]\n",
      "\n",
      "Param: max_depth\n",
      "Validation scores:\n",
      " [[0.69942197 0.69942197 0.69942197 0.70144928 0.70144928]\n",
      " [0.71098266 0.76589595 0.72543353 0.75942029 0.73333333]\n",
      " [0.71387283 0.76300578 0.7283237  0.82898551 0.83768116]\n",
      " [0.67630058 0.78612717 0.78034682 0.79710145 0.88695652]\n",
      " [0.6416185  0.76878613 0.75722543 0.80869565 0.87536232]]\n"
     ]
    }
   ],
   "source": [
    "classifier = RandomForestClassifier(n_estimators=20, random_state=7)\n",
    "parameter_grid = np.linspace(2, 10, 5).astype(int)\n",
    "train_scores, validation_scores = model_selection.validation_curve(classifier, X, Y, \"max_depth\", parameter_grid, cv=5)\n",
    "print(\"\\n##### VALIDATION CURVES #####\")\n",
    "print(\"\\nParam: max_depth\\nTraining scores:\\n\", train_scores)\n",
    "print(\"\\nParam: max_depth\\nValidation scores:\\n\", validation_scores)"
   ]
  },
  {
   "cell_type": "code",
   "execution_count": 204,
   "metadata": {},
   "outputs": [
    {
     "data": {
      "image/png": "[encoded data removed]",
      "text/plain": [
       "<Figure size 432x288 with 1 Axes>"
      ]
     },
     "metadata": {
      "needs_background": "light"
     },
     "output_type": "display_data"
    }
   ],
   "source": [
    "# 画出曲线图\n",
    "plt.figure()\n",
    "plt.plot(parameter_grid,100*np.average(train_scores,axis = 1),color='black')\n",
    "plt.title('Validation curve')\n",
    "plt.xlabel('Maximum depth of the tree')\n",
    "plt.ylabel('Accuracy')\n",
    "plt.show() "
   ]
  },
  {
   "cell_type": "code",
   "execution_count": 221,
   "metadata": {},
   "outputs": [
    {
     "name": "stdout",
     "output_type": "stream",
     "text": [
      "\n",
      "##### LEARNING CURVES #####\n",
      "\n",
      "Training scores:\n",
      " [[1.         1.         1.         1.         1.        ]\n",
      " [1.         1.         0.996      0.996      0.996     ]\n",
      " [0.99625    0.9925     0.99625    0.9975     0.9975    ]\n",
      " [0.98545455 0.98181818 0.98272727 0.99636364 0.99636364]]\n",
      "\n",
      "Validation scores:\n",
      " [[0.69942197 0.69942197 0.69942197 0.70144928 0.70144928]\n",
      " [0.71387283 0.77456647 0.76589595 0.76521739 0.70144928]\n",
      " [0.71387283 0.78612717 0.62138728 0.76521739 0.76811594]\n",
      " [0.71387283 0.78612717 0.73699422 0.77391304 0.76811594]]\n"
     ]
    }
   ],
   "source": [
    "classifier = RandomForestClassifier(n_estimators=200, max_depth= 8,random_state=7)\n",
    "parameter_grid = np.array([200, 500, 800, 1100])\n",
    "train_sizes, train_scores, validation_scores = model_selection.learning_curve(classifier, X, Y, train_sizes=parameter_grid, cv=5)\n",
    "print(\"\\n##### LEARNING CURVES #####\")\n",
    "print(\"\\nTraining scores:\\n\", train_scores)\n",
    "print(\"\\nValidation scores:\\n\", validation_scores) "
   ]
  },
  {
   "cell_type": "code",
   "execution_count": 222,
   "metadata": {},
   "outputs": [
    {
     "data": {
      "image/png": "[encoded data removed]",
      "text/plain": [
       "<Figure size 432x288 with 1 Axes>"
      ]
     },
     "metadata": {
      "needs_background": "light"
     },
     "output_type": "display_data"
    }
   ],
   "source": [
    "plt.figure()\n",
    "plt.plot(parameter_grid, 100*np.average(train_scores, axis=1), color='black')\n",
    "plt.title('Learning curve')\n",
    "plt.xlabel('Number of training samples')\n",
    "plt.ylabel('Accuracy')\n",
    "plt.show() "
   ]
  },
  {
   "cell_type": "code",
   "execution_count": null,
   "metadata": {},
   "outputs": [],
   "source": []
  }
 ],
 "metadata": {
  "kernelspec": {
   "display_name": "Python 3",
   "language": "python",
   "name": "python3"
  },
  "language_info": {
   "codemirror_mode": {
    "name": "ipython",
    "version": 3
   },
   "file_extension": ".py",
   "mimetype": "text/x-python",
   "name": "python",
   "nbconvert_exporter": "python",
   "pygments_lexer": "ipython3",
   "version": "3.8.3"
  }
 },
 "nbformat": 4,
 "nbformat_minor": 4
}
