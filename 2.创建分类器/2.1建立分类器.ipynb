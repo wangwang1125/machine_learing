{
 "cells": [
  {
   "cell_type": "markdown",
   "metadata": {},
   "source": [
    "# 简单的分类器"
   ]
  },
  {
   "cell_type": "code",
   "execution_count": 38,
   "metadata": {},
   "outputs": [],
   "source": [
    "import numpy as np\n",
    "from sklearn import linear_model\n",
    "import matplotlib.pyplot as plt"
   ]
  },
  {
   "cell_type": "code",
   "execution_count": 39,
   "metadata": {},
   "outputs": [
    {
     "data": {
      "text/plain": [
       "<matplotlib.collections.PathCollection at 0x2cd9a49de20>"
      ]
     },
     "execution_count": 39,
     "metadata": {},
     "output_type": "execute_result"
    },
    {
     "data": {
      "image/png": "[encoded data removed]",
      "text/plain": [
       "<Figure size 432x288 with 1 Axes>"
      ]
     },
     "metadata": {
      "needs_background": "light"
     },
     "output_type": "display_data"
    }
   ],
   "source": [
    "X = np.array([[3,1], [2,5], [1,8], [6,4], [5,2], [3,5], [4,7], [4,-1]]) \n",
    "y = [0, 1, 1, 0, 0, 1, 1, 0] \n",
    "class_0 = np.array([X[i] for i in range(len(X)) if y[i]==0])\n",
    "class_1 = np.array([X[i] for i in range(len(X)) if y[i]==1])\n",
    "\n",
    "plt.figure()\n",
    "plt.scatter(class_0[:,0],class_0[:,1],c='black',marker=\"v\")\n",
    "plt.scatter(class_1[:,0],class_1[:,1],c='black',marker=\"x\")"
   ]
  },
  {
   "cell_type": "code",
   "execution_count": 40,
   "metadata": {},
   "outputs": [
    {
     "data": {
      "text/plain": [
       "[<matplotlib.lines.Line2D at 0x2cd9a4fd580>]"
      ]
     },
     "execution_count": 40,
     "metadata": {},
     "output_type": "execute_result"
    },
    {
     "data": {
      "image/png": "[encoded data removed]",
      "text/plain": [
       "<Figure size 432x288 with 1 Axes>"
      ]
     },
     "metadata": {
      "needs_background": "light"
     },
     "output_type": "display_data"
    }
   ],
   "source": [
    "line_x = range(10)\n",
    "line_y = line_x\n",
    "plt.scatter(class_0[:,0],class_0[:,1],c='red',marker=\"v\")\n",
    "plt.scatter(class_1[:,0],class_1[:,1],c='blue',marker=\"x\")\n",
    "plt.plot(line_x,line_y,color='green',linewidth=3)"
   ]
  },
  {
   "cell_type": "markdown",
   "metadata": {},
   "source": [
    "# 逻辑回归分类器"
   ]
  },
  {
   "cell_type": "code",
   "execution_count": 41,
   "metadata": {},
   "outputs": [],
   "source": [
    "X = np.array([[4, 7], [3.5, 8], [3.1, 6.2], [0.5, 1], [1, 2],\n",
    "[1.2, 1.9], [6, 2], [5.7, 1.5], [5.4, 2.2]])\n",
    "Y = np.array([0, 0, 0, 1, 1, 1, 2, 2, 2]) "
   ]
  },
  {
   "cell_type": "code",
   "execution_count": 45,
   "metadata": {},
   "outputs": [
    {
     "data": {
      "text/plain": [
       "LogisticRegression(C=100, solver='liblinear')"
      ]
     },
     "execution_count": 45,
     "metadata": {},
     "output_type": "execute_result"
    }
   ],
   "source": [
    "classifier = linear_model.LogisticRegression(solver='liblinear',C=100)\n",
    "classifier.fit(X,Y)"
   ]
  },
  {
   "cell_type": "code",
   "execution_count": 53,
   "metadata": {},
   "outputs": [
    {
     "name": "stderr",
     "output_type": "stream",
     "text": [
      "<ipython-input-53-0f150d3fd42e>:16: MatplotlibDeprecationWarning: shading='flat' when X and Y have the same dimensions as C is deprecated since 3.3.  Either specify the corners of the quadrilaterals with X and Y, or pass shading='auto', 'nearest' or 'gouraud', or set rcParams['pcolor.shading'].  This will become an error two minor releases later.\n",
      "  plt.pcolormesh(x_values, y_values, mesh_output, cmap=plt.cm.gray)\n"
     ]
    },
    {
     "data": {
      "image/png": "[encoded data removed]",
      "text/plain": [
       "<Figure size 432x288 with 1 Axes>"
      ]
     },
     "metadata": {
      "needs_background": "light"
     },
     "output_type": "display_data"
    }
   ],
   "source": [
    "def plot_classifier(classifier, X, Y):\n",
    "    # 定义图形的取值范围\n",
    "    x_min, x_max = min(X[:, 0]) - 1.0, max(X[:, 0]) + 1.0\n",
    "    y_min, y_max = min(X[:, 1]) - 1.0, max(X[:, 1]) + 1.0 \n",
    "    # 设置网格数据的步长\n",
    "    step_size = 0.01\n",
    "    # 定义网格\n",
    "    x_values, y_values = np.meshgrid(np.arange(x_min, x_max, step_size),np.arange(y_min, y_max, step_size))\n",
    "    # 计算分类器输出结果\n",
    "    mesh_output = classifier.predict(np.c_[x_values.ravel(), y_values.ravel()])\n",
    "    # 数组维度变形\n",
    "    mesh_output = mesh_output.reshape(x_values.shape) \n",
    "    # 用彩图画出分类结果\n",
    "    plt.figure()\n",
    "    # 选择配色方案\n",
    "    plt.pcolormesh(x_values, y_values, mesh_output, cmap=plt.cm.gray) \n",
    "    plt.scatter(X[:, 0], X[:, 1], c=Y, s=80, edgecolors='black', linewidth=1,cmap=plt.cm.Paired) \n",
    "    \n",
    "plot_classifier(classifier, X, Y)\n"
   ]
  },
  {
   "cell_type": "markdown",
   "metadata": {},
   "source": [
    "# 朴素贝叶斯分类器"
   ]
  },
  {
   "cell_type": "code",
   "execution_count": 97,
   "metadata": {},
   "outputs": [],
   "source": [
    "from sklearn.naive_bayes import GaussianNB\n",
    "from sklearn import model_selection "
   ]
  },
  {
   "cell_type": "code",
   "execution_count": 98,
   "metadata": {},
   "outputs": [],
   "source": [
    "input_file = 'E://tensorflow//jupyter//machine_learing_damo//2.data//data_multivar.txt'"
   ]
  },
  {
   "cell_type": "code",
   "execution_count": 123,
   "metadata": {},
   "outputs": [
    {
     "name": "stdout",
     "output_type": "stream",
     "text": [
      "[8.73, 0.31]\n",
      "[4.71, -0.42]\n",
      "[4.58, 6.18]\n",
      "[9.38, 2.18]\n",
      "[4.78, 5.28]\n",
      "[1.22, 2.25]\n",
      "[9.22, 1.14]\n",
      "[5.61, -0.34]\n",
      "[7.8, 0.51]\n",
      "[1.98, 1.69]\n",
      "[7.51, 1.76]\n",
      "[0.95, 2.09]\n",
      "[3.43, 0.24]\n",
      "[4.74, 4.7]\n",
      "[0.64, 1.52]\n",
      "[4.2, -0.98]\n",
      "[0.51, 2.65]\n",
      "[3.94, -1.17]\n",
      "[7.39, 0.41]\n",
      "[4.19, -1.15]\n",
      "[0.99, 2.97]\n",
      "[1.62, 0.97]\n",
      "[3.37, -0.68]\n",
      "[4.76, 4.47]\n",
      "[3.64, 4.34]\n",
      "[9.18, 1.08]\n",
      "[3.9, -1.3]\n",
      "[4.0, -0.91]\n",
      "[4.64, 6.39]\n",
      "[7.24, 1.81]\n",
      "[7.65, 0.1]\n",
      "[9.18, 1.8]\n",
      "[0.37, 2.04]\n",
      "[8.95, 3.47]\n",
      "[3.56, -0.12]\n",
      "[3.85, -1.07]\n",
      "[2.71, -0.26]\n",
      "[3.88, -1.27]\n",
      "[3.97, -0.67]\n",
      "[2.1, 2.25]\n",
      "[1.05, -0.03]\n",
      "[6.77, 1.09]\n",
      "[4.75, 4.55]\n",
      "[8.51, 0.81]\n",
      "[3.87, 5.82]\n",
      "[1.81, 3.67]\n",
      "[5.52, -0.99]\n",
      "[4.38, -1.76]\n",
      "[0.48, 2.17]\n",
      "[8.32, 2.15]\n",
      "[4.04, 5.94]\n",
      "[8.57, 1.12]\n",
      "[9.71, 1.79]\n",
      "[3.97, -0.24]\n",
      "[3.55, -0.13]\n",
      "[9.38, -0.56]\n",
      "[8.35, 1.0]\n",
      "[0.58, 1.75]\n",
      "[4.34, 4.91]\n",
      "[3.66, -2.13]\n",
      "[3.35, -1.37]\n",
      "[0.85, 1.12]\n",
      "[5.56, 5.46]\n",
      "[3.86, -0.39]\n",
      "[-0.01, 1.62]\n",
      "[3.9, -1.21]\n",
      "[4.23, -0.62]\n",
      "[5.11, 4.9]\n",
      "[4.12, -0.38]\n",
      "[6.26, 4.24]\n",
      "[3.37, -1.47]\n",
      "[7.72, 3.1]\n",
      "[9.07, 1.29]\n",
      "[0.39, 0.85]\n",
      "[6.21, 4.37]\n",
      "[8.64, 0.89]\n",
      "[1.73, 2.93]\n",
      "[4.04, -2.32]\n",
      "[3.03, 0.24]\n",
      "[5.72, 5.56]\n",
      "[2.93, -1.34]\n",
      "[3.62, -1.55]\n",
      "[9.68, 0.65]\n",
      "[4.69, 4.11]\n",
      "[1.11, 3.62]\n",
      "[-0.42, 1.04]\n",
      "[4.56, 4.13]\n",
      "[-0.14, 3.9]\n",
      "[8.09, 1.3]\n",
      "[8.75, 1.28]\n",
      "[5.69, -0.23]\n",
      "[4.08, 4.9]\n",
      "[3.9, 5.26]\n",
      "[5.12, 4.51]\n",
      "[6.06, -0.95]\n",
      "[1.8, 2.15]\n",
      "[4.47, 0.13]\n",
      "[5.25, 5.69]\n",
      "[6.04, 5.68]\n",
      "[6.78, 3.6]\n",
      "[7.88, 1.27]\n",
      "[9.21, 2.07]\n",
      "[5.16, 4.58]\n",
      "[3.14, -0.93]\n",
      "[0.83, 1.91]\n",
      "[-0.42, 0.88]\n",
      "[0.46, 0.84]\n",
      "[1.38, 1.83]\n",
      "[8.47, 1.71]\n",
      "[7.86, 0.87]\n",
      "[3.39, -2.2]\n",
      "[5.12, 3.9]\n",
      "[1.26, 1.88]\n",
      "[8.1, 0.34]\n",
      "[1.47, 2.51]\n",
      "[3.32, 0.54]\n",
      "[0.74, 0.83]\n",
      "[8.07, 1.63]\n",
      "[1.77, 1.29]\n",
      "[4.19, -0.98]\n",
      "[4.59, -1.08]\n",
      "[0.27, 0.96]\n",
      "[3.35, -0.11]\n",
      "[4.87, -1.18]\n",
      "[1.19, 3.03]\n",
      "[8.55, 0.7]\n",
      "[7.8, 1.53]\n",
      "[3.66, 0.44]\n",
      "[1.56, 2.3]\n",
      "[4.41, 4.66]\n",
      "[6.26, 6.06]\n",
      "[4.79, -1.19]\n",
      "[8.16, 1.4]\n",
      "[5.0, 3.59]\n",
      "[1.38, 0.55]\n",
      "[5.08, 5.17]\n",
      "[8.43, 1.73]\n",
      "[7.53, 2.44]\n",
      "[4.81, 4.62]\n",
      "[0.72, 2.03]\n",
      "[4.63, -0.98]\n",
      "[5.6, 5.07]\n",
      "[7.84, 0.56]\n",
      "[7.23, 1.66]\n",
      "[8.39, 0.39]\n",
      "[5.85, 3.9]\n",
      "[1.16, 2.95]\n",
      "[1.68, 2.62]\n",
      "[1.33, 1.57]\n",
      "[8.34, 1.59]\n",
      "[8.78, 1.9]\n",
      "[1.83, 1.47]\n",
      "[5.33, 4.75]\n",
      "[1.13, 1.34]\n",
      "[5.04, 3.54]\n",
      "[1.92, 1.78]\n",
      "[4.92, -1.13]\n",
      "[7.75, 2.71]\n",
      "[7.47, 0.92]\n",
      "[1.52, 2.36]\n",
      "[8.65, 1.32]\n",
      "[7.54, 2.14]\n",
      "[3.37, 4.6]\n",
      "[4.05, -0.35]\n",
      "[4.82, 0.59]\n",
      "[4.92, 5.1]\n",
      "[4.57, -0.42]\n",
      "[4.32, -1.08]\n",
      "[6.15, 5.46]\n",
      "[4.9, 4.72]\n",
      "[7.25, 0.76]\n",
      "[2.7, 0.13]\n",
      "[4.18, 6.12]\n",
      "[4.12, -0.47]\n",
      "[8.18, 0.82]\n",
      "[0.8, 2.67]\n",
      "[9.23, 1.02]\n",
      "[7.34, 1.8]\n",
      "[10.06, 2.36]\n",
      "[4.83, 5.03]\n",
      "[2.57, 1.16]\n",
      "[1.69, 1.09]\n",
      "[4.57, 3.83]\n",
      "[0.66, 3.73]\n",
      "[4.77, 3.51]\n",
      "[8.41, 1.55]\n",
      "[7.94, -1.0]\n",
      "[8.8, 1.75]\n",
      "[3.36, 6.74]\n",
      "[5.55, 5.79]\n",
      "[4.0, -2.0]\n",
      "[2.4, 0.95]\n",
      "[5.05, 4.51]\n",
      "[7.72, 1.9]\n",
      "[0.34, 3.34]\n",
      "[4.73, 5.28]\n",
      "[5.99, 4.69]\n",
      "[8.29, 2.55]\n",
      "[3.91, -0.76]\n",
      "[6.31, 5.26]\n",
      "[4.75, 4.91]\n",
      "[7.68, -0.22]\n",
      "[5.67, 4.2]\n",
      "[8.02, 0.32]\n",
      "[9.13, 2.21]\n",
      "[3.67, 6.25]\n",
      "[0.96, 2.11]\n",
      "[6.08, 5.82]\n",
      "[3.28, -0.26]\n",
      "[8.21, 2.26]\n",
      "[0.43, 1.71]\n",
      "[8.62, 1.38]\n",
      "[4.98, 4.81]\n",
      "[7.06, 0.57]\n",
      "[3.07, 0.33]\n",
      "[0.94, 2.94]\n",
      "[6.01, 6.25]\n",
      "[3.09, -1.33]\n",
      "[8.96, 0.91]\n",
      "[4.3, 0.03]\n",
      "[4.94, 5.12]\n",
      "[1.69, 2.21]\n",
      "[8.31, 2.35]\n",
      "[4.48, 5.82]\n",
      "[7.74, 1.54]\n",
      "[8.26, 0.14]\n",
      "[7.35, 0.25]\n",
      "[5.65, 6.46]\n",
      "[4.2, 0.21]\n",
      "[1.65, 3.14]\n",
      "[7.91, 0.9]\n",
      "[4.18, -1.14]\n",
      "[7.69, 2.0]\n",
      "[0.79, 2.75]\n",
      "[7.67, 2.06]\n",
      "[3.39, -1.05]\n",
      "[3.45, 4.23]\n",
      "[5.16, -1.14]\n",
      "[5.2, 5.75]\n",
      "[8.16, 3.19]\n",
      "[0.51, 1.6]\n",
      "[8.92, 3.37]\n",
      "[7.44, 1.82]\n",
      "[4.58, 0.04]\n",
      "[3.84, -1.14]\n",
      "[4.11, -1.0]\n",
      "[-0.01, 2.31]\n",
      "[2.37, 4.0]\n",
      "[4.45, -3.16]\n",
      "[4.39, -0.84]\n",
      "[4.5, 4.12]\n",
      "[4.85, 5.76]\n",
      "[4.57, 5.14]\n",
      "[4.88, 0.4]\n",
      "[3.51, -0.91]\n",
      "[2.22, -0.95]\n",
      "[1.11, 1.38]\n",
      "[5.1, 5.17]\n",
      "[4.83, 5.09]\n",
      "[5.84, 4.11]\n",
      "[1.14, 1.29]\n",
      "[3.79, 0.94]\n",
      "[1.35, 2.06]\n",
      "[1.48, 1.69]\n",
      "[3.48, -1.42]\n",
      "[1.8, 1.55]\n",
      "[5.53, 4.58]\n",
      "[4.71, 6.71]\n",
      "[7.63, 0.36]\n",
      "[-0.04, 2.54]\n",
      "[5.54, 5.63]\n",
      "[-0.98, 2.71]\n",
      "[4.29, -0.9]\n",
      "[2.99, -0.43]\n",
      "[7.06, 0.15]\n",
      "[8.24, 0.86]\n",
      "[4.74, 4.81]\n",
      "[5.95, 6.86]\n",
      "[3.9, -0.6]\n",
      "[1.97, 1.69]\n",
      "[4.82, 5.98]\n",
      "[3.87, -0.97]\n",
      "[5.7, -0.83]\n",
      "[1.18, 2.62]\n",
      "[1.4, 2.9]\n",
      "[1.24, 3.01]\n",
      "[8.25, 1.98]\n",
      "[4.0, -0.88]\n",
      "[-0.01, 3.11]\n",
      "[4.97, -0.32]\n",
      "[7.43, 5.33]\n",
      "[7.82, 1.67]\n",
      "[4.75, 4.37]\n",
      "[1.2, 2.35]\n",
      "[3.87, 3.43]\n",
      "[7.9, 0.88]\n",
      "[4.39, 5.39]\n",
      "[5.66, 4.97]\n",
      "[8.83, 2.05]\n",
      "[6.61, 0.57]\n",
      "[1.26, 2.02]\n",
      "[1.16, 2.64]\n",
      "[8.49, 1.63]\n",
      "[4.96, 5.01]\n",
      "[-0.57, 2.72]\n",
      "[8.01, 2.39]\n",
      "[7.64, 0.67]\n",
      "[8.01, 1.08]\n",
      "[0.96, 1.97]\n",
      "[1.83, 2.1]\n",
      "[4.15, -0.66]\n",
      "[5.27, 4.79]\n",
      "[8.6, 1.01]\n",
      "[5.42, 4.83]\n",
      "[4.61, -1.37]\n",
      "[4.33, 0.52]\n",
      "[-0.38, 1.43]\n",
      "[4.44, 4.32]\n",
      "[0.58, 2.05]\n",
      "[-0.53, 1.41]\n",
      "[5.34, 5.75]\n",
      "[3.79, -1.18]\n",
      "[0.57, 0.56]\n",
      "[5.31, 4.98]\n",
      "[4.53, 5.61]\n",
      "[0.05, 2.72]\n",
      "[4.5, 0.1]\n",
      "[6.33, 4.23]\n",
      "[4.1, -0.76]\n",
      "[6.98, 1.47]\n",
      "[6.53, 2.98]\n",
      "[8.01, 1.96]\n",
      "[1.41, 1.75]\n",
      "[4.77, -0.68]\n",
      "[3.98, -1.15]\n",
      "[5.47, 5.98]\n",
      "[2.1, -1.81]\n",
      "[1.78, 1.39]\n",
      "[3.2, -2.18]\n",
      "[5.12, -0.96]\n",
      "[4.54, 4.95]\n",
      "[7.12, -0.99]\n",
      "[8.29, 2.01]\n",
      "[4.55, 5.3]\n",
      "[8.74, 1.0]\n",
      "[0.4, 1.61]\n",
      "[5.01, 4.79]\n",
      "[0.83, 1.39]\n",
      "[1.13, 2.85]\n",
      "[5.1, 5.05]\n",
      "[4.86, 5.81]\n",
      "[0.85, 1.24]\n",
      "[8.92, 1.38]\n",
      "[1.07, 2.57]\n",
      "[4.82, -2.34]\n",
      "[0.98, 2.94]\n",
      "[3.89, 5.57]\n",
      "[-0.0, 1.8]\n",
      "[2.41, -1.68]\n",
      "[3.7, -1.29]\n",
      "[1.42, 2.91]\n",
      "[7.63, 1.14]\n",
      "[4.77, -0.31]\n",
      "[-0.18, 2.66]\n",
      "[4.94, 6.53]\n",
      "[2.86, -0.64]\n",
      "[7.02, 2.21]\n",
      "[5.07, -2.09]\n",
      "[5.51, 5.23]\n",
      "[8.61, 0.69]\n",
      "[4.83, 3.56]\n",
      "[2.32, 1.36]\n",
      "[2.36, 2.71]\n",
      "[2.34, 2.22]\n",
      "[4.42, -0.17]\n",
      "[3.8, 0.02]\n",
      "[7.9, 2.52]\n",
      "[0.56, 2.05]\n",
      "[5.5, 4.34]\n",
      "[4.05, -1.43]\n",
      "[-0.08, -0.25]\n",
      "[5.74, 5.32]\n",
      "[2.25, 1.04]\n",
      "[4.22, 0.39]\n",
      "[0.89, 2.14]\n",
      "[-0.88, 2.33]\n",
      "[4.15, 6.18]\n",
      "[6.56, 1.55]\n",
      "[8.45, 2.4]\n",
      "[8.9, 1.44]\n",
      "[7.81, -0.16]\n",
      "[5.06, 6.6]\n",
      "[4.63, -1.53]\n",
      "[5.85, 1.35]\n",
      "[0.55, 1.88]\n",
      "[5.0, 0.85]\n",
      "[6.01, 4.03]\n",
      "[1.2, 2.19]\n",
      "[0.13, 2.06]\n",
      "[6.98, 1.02]\n"
     ]
    }
   ],
   "source": [
    "x = []\n",
    "y = []\n",
    "\n",
    "with open(input_file,'r') as f:\n",
    "    for line in f.readlines():\n",
    "        data = [float(x) for x in line.split(',')]\n",
    "        x.append(data[:-1])\n",
    "        y.append(data[-1])\n",
    "\n",
    "x = np.array(x)\n",
    "y = np.array(y)\n"
   ]
  },
  {
   "cell_type": "code",
   "execution_count": 102,
   "metadata": {},
   "outputs": [],
   "source": [
    "X_train, X_test, y_train, y_test = model_selection.train_test_split(x, y,test_size=0.25, random_state=5) \n",
    "\n",
    "classifier_gaussiannb = GaussianNB()\n",
    "classifier_gaussiannb.fit(X_train, y_train)\n",
    "y_pred = classifier_gaussiannb.predict(X_test)"
   ]
  },
  {
   "cell_type": "code",
   "execution_count": 103,
   "metadata": {},
   "outputs": [
    {
     "name": "stderr",
     "output_type": "stream",
     "text": [
      "<ipython-input-53-0f150d3fd42e>:16: MatplotlibDeprecationWarning: shading='flat' when X and Y have the same dimensions as C is deprecated since 3.3.  Either specify the corners of the quadrilaterals with X and Y, or pass shading='auto', 'nearest' or 'gouraud', or set rcParams['pcolor.shading'].  This will become an error two minor releases later.\n",
      "  plt.pcolormesh(x_values, y_values, mesh_output, cmap=plt.cm.gray)\n"
     ]
    },
    {
     "data": {
      "image/png": "[encoded data removed]",
      "text/plain": [
       "<Figure size 432x288 with 1 Axes>"
      ]
     },
     "metadata": {
      "needs_background": "light"
     },
     "output_type": "display_data"
    }
   ],
   "source": [
    "plot_classifier(classifier_gaussiannb,X_test,y_test)"
   ]
  },
  {
   "cell_type": "code",
   "execution_count": 110,
   "metadata": {},
   "outputs": [
    {
     "data": {
      "text/plain": [
       "98.0"
      ]
     },
     "execution_count": 110,
     "metadata": {},
     "output_type": "execute_result"
    }
   ],
   "source": [
    "accuracy = 100.0 * (y_test == y_pred).sum() /X_test.shape[0]\n",
    "accuracy"
   ]
  },
  {
   "cell_type": "markdown",
   "metadata": {},
   "source": [
    "# 交叉验证"
   ]
  },
  {
   "cell_type": "code",
   "execution_count": 112,
   "metadata": {},
   "outputs": [
    {
     "name": "stdout",
     "output_type": "stream",
     "text": [
      "Accuracy: 99.5%\n"
     ]
    }
   ],
   "source": [
    "num_validations = 5\n",
    "accuracy = model_selection.cross_val_score(classifier_gaussiannb,x, y,scoring='accuracy', cv=num_validations)\n",
    "print(\"Accuracy: \" + str(round(100*accuracy.mean(), 2)) + \"%\" )"
   ]
  },
  {
   "cell_type": "code",
   "execution_count": 116,
   "metadata": {},
   "outputs": [
    {
     "name": "stdout",
     "output_type": "stream",
     "text": [
      "F1: 99.5%\n",
      "Precision: 99.52%\n",
      "Recall: 99.5%\n"
     ]
    }
   ],
   "source": [
    "f1 = model_selection.cross_val_score(classifier_gaussiannb,x, y, scoring='f1_weighted', cv=num_validations)\n",
    "print(\"F1: \" + str(round(100*f1.mean(), 2)) + \"%\")\n",
    "precision = model_selection.cross_val_score(classifier_gaussiannb,x, y, scoring='precision_weighted', cv=num_validations)\n",
    "print(\"Precision: \" + str(round(100*precision.mean(), 2)) + \"%\")\n",
    "recall = model_selection.cross_val_score(classifier_gaussiannb,x, y, scoring='recall_weighted', cv=num_validations)\n",
    "print(\"Recall: \" + str(round(100*recall.mean(), 2)) + \"%\" )"
   ]
  }
 ],
 "metadata": {
  "kernelspec": {
   "display_name": "Python 3",
   "language": "python",
   "name": "python3"
  },
  "language_info": {
   "codemirror_mode": {
    "name": "ipython",
    "version": 3
   },
   "file_extension": ".py",
   "mimetype": "text/x-python",
   "name": "python",
   "nbconvert_exporter": "python",
   "pygments_lexer": "ipython3",
   "version": "3.8.3"
  }
 },
 "nbformat": 4,
 "nbformat_minor": 4
}
