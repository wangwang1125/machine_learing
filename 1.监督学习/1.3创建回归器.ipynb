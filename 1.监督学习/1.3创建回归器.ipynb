{
 "cells": [
  {
   "cell_type": "code",
   "execution_count": 2,
   "metadata": {},
   "outputs": [],
   "source": [
    "import sys\n",
    "import numpy as np\n",
    "from sklearn import linear_model\n",
    "import matplotlib.pyplot as plt"
   ]
  },
  {
   "cell_type": "code",
   "execution_count": 3,
   "metadata": {},
   "outputs": [],
   "source": [
    "filename = \"E:\\\\tensorflow\\\\jupyter\\\\machine_learing_damo\\\\1.data\\\\data_singlevar.txt\"\n",
    "x=[]\n",
    "y=[]"
   ]
  },
  {
   "cell_type": "code",
   "execution_count": 4,
   "metadata": {},
   "outputs": [
    {
     "name": "stdout",
     "output_type": "stream",
     "text": [
      "[4.94, -1.58, -4.45, -6.06, -1.22, -3.55, 0.36, -3.24, 1.31, 2.17, 2.94, -0.92, -0.91, 1.24, 1.56, -4.14, 3.75, 4.15, 0.33, 3.41, 2.27, 2.6, 1.06, 1.04, 2.74, -0.71, -2.75, 0.55, -3.45, 1.09, 2.47, -6.35, 1.83, -0.68, -3.83, -2.03, 3.13, 0.92, 4.02, 3.89, -1.81, 3.94, -2.0, 0.54, 0.78, 2.15, 2.55, -0.63, 1.06, -0.36]\n",
      "[4.37, 1.7, 1.88, 0.56, 2.23, 1.53, 2.99, 0.48, 2.76, 3.99, 3.25, 2.27, 2.0, 4.75, 3.52, 1.39, 4.9, 4.44, 2.72, 4.59, 5.3, 3.43, 2.53, 3.69, 3.1, 2.72, 2.82, 3.53, 1.77, 4.61, 4.24, 1.0, 3.84, 2.42, 0.67, 1.07, 3.19, 4.21, 5.24, 3.94, 2.85, 4.86, 1.31, 3.99, 2.92, 4.72, 3.83, 2.58, 2.89, 1.99]\n"
     ]
    }
   ],
   "source": [
    "with open(filename,'r') as f:\n",
    "    for line in f.readlines():\n",
    "        xt, yt = [float(i) for i in line.split(',')]\n",
    "        x.append(xt)\n",
    "        y.append(yt)\n",
    "print(x)\n",
    "print(y)"
   ]
  },
  {
   "cell_type": "markdown",
   "metadata": {},
   "source": [
    "# 创建线性回归器"
   ]
  },
  {
   "cell_type": "code",
   "execution_count": 5,
   "metadata": {},
   "outputs": [],
   "source": [
    "num_training = int(0.8*len(x))\n",
    "num_test = len(x) - num_training\n",
    "\n",
    "X_train = np.array(x[:num_training]).reshape(num_training,1)\n",
    "Y_train = np.array(y[:num_training])\n",
    "\n",
    "X_test = np.array(x[num_training:]).reshape(num_test,1)\n",
    "Y_test = np.array(y[num_training:])"
   ]
  },
  {
   "cell_type": "code",
   "execution_count": 6,
   "metadata": {},
   "outputs": [
    {
     "data": {
      "text/plain": [
       "LinearRegression()"
      ]
     },
     "execution_count": 6,
     "metadata": {},
     "output_type": "execute_result"
    }
   ],
   "source": [
    "linear_regressor = linear_model.LinearRegression()\n",
    "#训练模型\n",
    "linear_regressor.fit(X_train,Y_train)"
   ]
  },
  {
   "cell_type": "code",
   "execution_count": 7,
   "metadata": {},
   "outputs": [
    {
     "data": {
      "image/png": "[encoded data removed]",
      "text/plain": [
       "<Figure size 432x288 with 1 Axes>"
      ]
     },
     "metadata": {
      "needs_background": "light"
     },
     "output_type": "display_data"
    }
   ],
   "source": [
    "y_train_pred = linear_regressor.predict(X_train)\n",
    "plt.figure()\n",
    "plt.xlabel(\"x\")\n",
    "plt.ylabel(\"y\")\n",
    "plt.scatter(X_train,Y_train,color='green')\n",
    "plt.plot(X_train,y_train_pred)\n",
    "plt.title('Training data')\n",
    "plt.show()"
   ]
  },
  {
   "cell_type": "code",
   "execution_count": 8,
   "metadata": {},
   "outputs": [
    {
     "data": {
      "text/plain": [
       "[<matplotlib.lines.Line2D at 0x17f2ec65970>]"
      ]
     },
     "execution_count": 8,
     "metadata": {},
     "output_type": "execute_result"
    },
    {
     "data": {
      "image/png": "[encoded data removed]",
      "text/plain": [
       "<Figure size 432x288 with 1 Axes>"
      ]
     },
     "metadata": {
      "needs_background": "light"
     },
     "output_type": "display_data"
    }
   ],
   "source": [
    "y_test_pred = linear_regressor.predict(X_test)\n",
    "plt.figure()\n",
    "plt.xlabel(\"x\")\n",
    "plt.ylabel(\"y\")\n",
    "plt.scatter(X_test,Y_test,color=\"green\")\n",
    "plt.plot(X_test,y_test_pred)"
   ]
  },
  {
   "cell_type": "code",
   "execution_count": 9,
   "metadata": {},
   "outputs": [
    {
     "name": "stdout",
     "output_type": "stream",
     "text": [
      "Mean absolute error = 0.54\n",
      "Mean squared error = 0.38\n",
      "Median absolute error = 0.54\n",
      "Explained variance score = 0.68\n",
      "R2 score = 0.68\n"
     ]
    }
   ],
   "source": [
    "import sklearn.metrics as sm\n",
    "#平均绝对误差\n",
    "print(\"Mean absolute error =\", round(sm.mean_absolute_error(Y_test, y_test_pred), 2))\n",
    "#均方误差\n",
    "print(\"Mean squared error =\", round(sm.mean_squared_error(Y_test, y_test_pred), 2))\n",
    "#中位数绝对误差\n",
    "print(\"Median absolute error =\", round(sm.median_absolute_error(Y_test, y_test_pred),2))\n",
    "#解释方差分\n",
    "print(\"Explained variance score =\", round(sm.explained_variance_score(Y_test,y_test_pred), 2))\n",
    "#R方得分\n",
    "print(\"R2 score =\", round(sm.r2_score(Y_test, y_test_pred), 2) )"
   ]
  },
  {
   "cell_type": "markdown",
   "metadata": {},
   "source": [
    "# 保存模型"
   ]
  },
  {
   "cell_type": "code",
   "execution_count": 10,
   "metadata": {},
   "outputs": [],
   "source": [
    "import pickle as pk"
   ]
  },
  {
   "cell_type": "code",
   "execution_count": 11,
   "metadata": {},
   "outputs": [],
   "source": [
    "output_model_file = 'E:\\\\tensorflow\\\\jupyter\\\\machine_learing_damo\\\\1.data\\\\saved_model.pkl'\n",
    "with open(output_model_file, 'wb') as f:\n",
    "    pk.dump(linear_regressor, f) "
   ]
  },
  {
   "cell_type": "code",
   "execution_count": 12,
   "metadata": {},
   "outputs": [
    {
     "name": "stdout",
     "output_type": "stream",
     "text": [
      "\n",
      "New mean absolute error = 0.54\n"
     ]
    }
   ],
   "source": [
    "with open(output_model_file, 'rb') as f:\n",
    "     model_linregr = pk.load(f)\n",
    "y_test_pred_new = model_linregr.predict(X_test)\n",
    "print(\"\\nNew mean absolute error =\", round(sm.mean_absolute_error(Y_test,y_test_pred_new), 2))"
   ]
  },
  {
   "cell_type": "code",
   "execution_count": 13,
   "metadata": {},
   "outputs": [
    {
     "data": {
      "text/plain": [
       "[<matplotlib.lines.Line2D at 0x17f2fca0dc0>]"
      ]
     },
     "execution_count": 13,
     "metadata": {},
     "output_type": "execute_result"
    },
    {
     "data": {
      "image/png": "[encoded data removed]",
      "text/plain": [
       "<Figure size 432x288 with 1 Axes>"
      ]
     },
     "metadata": {
      "needs_background": "light"
     },
     "output_type": "display_data"
    }
   ],
   "source": [
    "plt.scatter(X_test,Y_test,color=\"green\")\n",
    "plt.plot(X_test,y_test_pred_new)"
   ]
  },
  {
   "cell_type": "markdown",
   "metadata": {},
   "source": [
    "# 创建岭回归器"
   ]
  },
  {
   "cell_type": "code",
   "execution_count": 18,
   "metadata": {},
   "outputs": [],
   "source": [
    "file_name=\"E:\\\\tensorflow\\\\jupyter\\\\machine_learing_damo\\\\1.data\\\\data_multivar.txt\"\n",
    "x=[]\n",
    "y=[]\n",
    "with open(file_name,'r') as f:\n",
    "    for line in f.readlines():\n",
    "        data= [float(i) for i in line.split(\",\")]\n",
    "        x.append(data[:-1])\n",
    "        y.append(data[-1])\n",
    "        \n",
    "num_train = int(0.8*len(x))\n",
    "num_test = len(x) - num_train\n",
    "\n",
    "X_train = np.array(x[:num_train])\n",
    "Y_train = np.array(y[:num_train])\n",
    "\n",
    "X_test = np.array(x[num_train:])\n",
    "Y_test = np.array(y[num_train:])"
   ]
  },
  {
   "cell_type": "code",
   "execution_count": 19,
   "metadata": {},
   "outputs": [],
   "source": [
    "ridge_regressor = linear_model.Ridge(alpha=0.01,fit_intercept=True,max_iter=10000)"
   ]
  },
  {
   "cell_type": "code",
   "execution_count": 20,
   "metadata": {},
   "outputs": [
    {
     "name": "stdout",
     "output_type": "stream",
     "text": [
      "Mean absolute error = 3.95\n",
      "Mean squared error = 23.15\n",
      "Median absolute error = 3.69\n",
      "Explain variance score = 0.84\n",
      "R2 score = 0.83\n"
     ]
    }
   ],
   "source": [
    "ridge_regressor.fit(X_train,Y_train)\n",
    "y_test_pred_ridge = ridge_regressor.predict(X_test)\n",
    "\n",
    "print(\"Mean absolute error =\", round(sm.mean_absolute_error(Y_test, y_test_pred_ridge), 2))\n",
    "print(\"Mean squared error =\", round(sm.mean_squared_error(Y_test, y_test_pred_ridge), 2))\n",
    "print(\"Median absolute error =\", round(sm.median_absolute_error(Y_test, y_test_pred_ridge), 2))\n",
    "print(\"Explain variance score =\", round(sm.explained_variance_score(Y_test, y_test_pred_ridge), 2))\n",
    "print(\"R2 score =\", round(sm.r2_score(Y_test, y_test_pred_ridge), 2))"
   ]
  },
  {
   "cell_type": "code",
   "execution_count": 21,
   "metadata": {},
   "outputs": [
    {
     "data": {
      "text/plain": [
       "LinearRegression()"
      ]
     },
     "execution_count": 21,
     "metadata": {},
     "output_type": "execute_result"
    }
   ],
   "source": [
    "linear_regressor = linear_model.LinearRegression()\n",
    "#训练模型\n",
    "linear_regressor.fit(X_train,Y_train)"
   ]
  },
  {
   "cell_type": "code",
   "execution_count": 22,
   "metadata": {},
   "outputs": [
    {
     "name": "stdout",
     "output_type": "stream",
     "text": [
      "Mean absolute error = 3.95\n",
      "Mean squared error = 23.15\n",
      "Median absolute error = 3.69\n",
      "Explain variance score = 0.84\n",
      "R2 score = 0.83\n"
     ]
    }
   ],
   "source": [
    "y_test_pred_ridge = linear_regressor.predict(X_test)\n",
    "\n",
    "print(\"Mean absolute error =\", round(sm.mean_absolute_error(Y_test, y_test_pred_ridge), 2))\n",
    "print(\"Mean squared error =\", round(sm.mean_squared_error(Y_test, y_test_pred_ridge), 2))\n",
    "print(\"Median absolute error =\", round(sm.median_absolute_error(Y_test, y_test_pred_ridge), 2))\n",
    "print(\"Explain variance score =\", round(sm.explained_variance_score(Y_test, y_test_pred_ridge), 2))\n",
    "print(\"R2 score =\", round(sm.r2_score(Y_test, y_test_pred_ridge), 2))"
   ]
  },
  {
   "cell_type": "code",
   "execution_count": null,
   "metadata": {},
   "outputs": [],
   "source": []
  }
 ],
 "metadata": {
  "kernelspec": {
   "display_name": "Python 3",
   "language": "python",
   "name": "python3"
  },
  "language_info": {
   "codemirror_mode": {
    "name": "ipython",
    "version": 3
   },
   "file_extension": ".py",
   "mimetype": "text/x-python",
   "name": "python",
   "nbconvert_exporter": "python",
   "pygments_lexer": "ipython3",
   "version": "3.8.3"
  }
 },
 "nbformat": 4,
 "nbformat_minor": 4
}
