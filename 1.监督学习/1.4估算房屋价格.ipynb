{
 "cells": [
  {
   "cell_type": "code",
   "execution_count": 2,
   "metadata": {},
   "outputs": [],
   "source": [
    "import numpy as np\n",
    "from sklearn.tree import DecisionTreeRegressor\n",
    "from sklearn.ensemble import AdaBoostRegressor\n",
    "from sklearn import datasets\n",
    "from sklearn.metrics import mean_squared_error, explained_variance_score\n",
    "from sklearn.utils import shuffle\n",
    "import matplotlib.pyplot as plt "
   ]
  },
  {
   "cell_type": "code",
   "execution_count": 3,
   "metadata": {},
   "outputs": [],
   "source": [
    "housing_data = datasets.load_boston() "
   ]
  },
  {
   "cell_type": "code",
   "execution_count": 4,
   "metadata": {},
   "outputs": [],
   "source": [
    "#将数据打乱\n",
    "x, y = shuffle(housing_data.data, housing_data.target, random_state=7) "
   ]
  },
  {
   "cell_type": "code",
   "execution_count": 5,
   "metadata": {},
   "outputs": [],
   "source": [
    "num_training = int(0.8*len(x))\n",
    "\n",
    "x_train, y_train = x[:num_training], y[:num_training]\n",
    "x_test, y_test = x[num_training:], y[num_training:]"
   ]
  },
  {
   "cell_type": "code",
   "execution_count": 6,
   "metadata": {},
   "outputs": [
    {
     "data": {
      "text/plain": [
       "DecisionTreeRegressor(max_depth=4)"
      ]
     },
     "execution_count": 6,
     "metadata": {},
     "output_type": "execute_result"
    }
   ],
   "source": [
    "#拟合决策树回归模型\n",
    "dt_regressor = DecisionTreeRegressor(max_depth=4)\n",
    "dt_regressor.fit(x_train,y_train)"
   ]
  },
  {
   "cell_type": "code",
   "execution_count": 7,
   "metadata": {},
   "outputs": [
    {
     "data": {
      "text/plain": [
       "AdaBoostRegressor(base_estimator=DecisionTreeRegressor(max_depth=4),\n",
       "                  n_estimators=400, random_state=7)"
      ]
     },
     "execution_count": 7,
     "metadata": {},
     "output_type": "execute_result"
    }
   ],
   "source": [
    "#AdaBoost算法的决策树回归模型\n",
    "ab_regressor = AdaBoostRegressor(DecisionTreeRegressor(max_depth=4),n_estimators=400,random_state=7)\n",
    "ab_regressor.fit(x_train,y_train)"
   ]
  },
  {
   "cell_type": "code",
   "execution_count": 8,
   "metadata": {},
   "outputs": [
    {
     "name": "stdout",
     "output_type": "stream",
     "text": [
      "\n",
      "#### Decision Tree performance ####\n",
      "Mean squared error = 14.79\n",
      "Explained variance score = 0.82\n"
     ]
    }
   ],
   "source": [
    "y_pred_dt = dt_regressor.predict(x_test)\n",
    "mse = mean_squared_error(y_test,y_pred_dt)\n",
    "evs = explained_variance_score(y_test,y_pred_dt)\n",
    "print(\"\\n#### Decision Tree performance ####\")\n",
    "print(\"Mean squared error =\", round(mse, 2))\n",
    "print(\"Explained variance score =\", round(evs, 2))"
   ]
  },
  {
   "cell_type": "code",
   "execution_count": 9,
   "metadata": {},
   "outputs": [
    {
     "name": "stdout",
     "output_type": "stream",
     "text": [
      "\n",
      "#### AdaBoost performance ####\n",
      "Mean squared error = 7.54\n",
      "Explained variance score = 0.91\n"
     ]
    }
   ],
   "source": [
    "y_pred_ab = ab_regressor.predict(x_test)\n",
    "mse = mean_squared_error(y_test, y_pred_ab)\n",
    "evs = explained_variance_score(y_test, y_pred_ab)\n",
    "print(\"\\n#### AdaBoost performance ####\")\n",
    "print(\"Mean squared error =\", round(mse, 2))\n",
    "print(\"Explained variance score =\", round(evs, 2))"
   ]
  },
  {
   "cell_type": "code",
   "execution_count": 10,
   "metadata": {},
   "outputs": [
    {
     "data": {
      "image/png": "[encoded data removed]",
      "text/plain": [
       "<Figure size 432x288 with 1 Axes>"
      ]
     },
     "metadata": {
      "needs_background": "light"
     },
     "output_type": "display_data"
    },
    {
     "data": {
      "image/png": "[encoded data removed]",
      "text/plain": [
       "<Figure size 432x288 with 1 Axes>"
      ]
     },
     "metadata": {
      "needs_background": "light"
     },
     "output_type": "display_data"
    }
   ],
   "source": [
    "def plot_feature_importances(feature_importances, title, feature_names):\n",
    "    #将重要性值标准化\n",
    "    feature_importances = 100.0 * (feature_importances / max(feature_importances))\n",
    "    #将得分从高到低排序\n",
    "    index_sorted = np.flipud(np.argsort(feature_importances))\n",
    " \n",
    "    #让x轴上的标签居中显示\n",
    "    pos = np.arange(index_sorted.shape[0]) + 0.5\n",
    " \n",
    "    #画条形图\n",
    "    plt.figure()\n",
    "    plt.bar(pos, feature_importances[index_sorted], align = 'center')\n",
    "    plt.xticks(pos, feature_names[index_sorted])\n",
    "    plt.ylabel('Relative Importance')\n",
    "    plt.title(title)\n",
    "    plt.show()\n",
    "    return None\n",
    "#作图\n",
    "plot_feature_importances(dt_regressor.feature_importances_, 'Decision Tree regressor',\n",
    "                         housing_data.feature_names)\n",
    "plot_feature_importances(ab_regressor.feature_importances_, 'AdaBoost regressor',\n",
    "                         housing_data.feature_names)"
   ]
  },
  {
   "cell_type": "code",
   "execution_count": null,
   "metadata": {},
   "outputs": [],
   "source": []
  }
 ],
 "metadata": {
  "kernelspec": {
   "display_name": "Python 3",
   "language": "python",
   "name": "python3"
  },
  "language_info": {
   "codemirror_mode": {
    "name": "ipython",
    "version": 3
   },
   "file_extension": ".py",
   "mimetype": "text/x-python",
   "name": "python",
   "nbconvert_exporter": "python",
   "pygments_lexer": "ipython3",
   "version": "3.8.3"
  }
 },
 "nbformat": 4,
 "nbformat_minor": 4
}
